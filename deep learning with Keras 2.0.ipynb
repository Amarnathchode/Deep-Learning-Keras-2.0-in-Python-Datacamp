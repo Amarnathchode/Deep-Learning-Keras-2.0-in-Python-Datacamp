{
 "cells": [
  {
   "cell_type": "markdown",
   "metadata": {},
   "source": [
    "## Deep Learning in Python  ## pracrice"
   ]
  },
  {
   "cell_type": "code",
   "execution_count": 4,
   "metadata": {},
   "outputs": [],
   "source": [
    "import numpy as np\n",
    "import pandas as pd\n",
    "\n"
   ]
  },
  {
   "cell_type": "code",
   "execution_count": 24,
   "metadata": {},
   "outputs": [
    {
     "name": "stderr",
     "output_type": "stream",
     "text": [
      "C:\\Users\\kavya\\Anaconda\\lib\\site-packages\\h5py\\__init__.py:36: FutureWarning: Conversion of the second argument of issubdtype from `float` to `np.floating` is deprecated. In future, it will be treated as `np.float64 == np.dtype(float).type`.\n",
      "  from ._conv import register_converters as _register_converters\n",
      "Using TensorFlow backend.\n"
     ]
    }
   ],
   "source": [
    "# Import necessary modules\n",
    "import keras\n",
    "from keras.layers import Dense\n",
    "from keras.models import Sequential\n"
   ]
  },
  {
   "cell_type": "markdown",
   "metadata": {},
   "source": [
    "## Course Description ##\n",
    "Deep learning is the machine learning technique behind the most exciting capabilities in diverse areas like robotics, natural language processing, image recognition and artificial intelligence (including the famous AlphaGo). In this course, you'll gain hands-on, practical knowledge of how to use deep learning with Keras 2.0, the latest version of a cutting edge library for deep learning in Python."
   ]
  },
  {
   "cell_type": "markdown",
   "metadata": {},
   "source": [
    "## 1 Basics of deep learning and neural networks ##\n"
   ]
  },
  {
   "cell_type": "markdown",
   "metadata": {},
   "source": [
    "<img src=\"images/Basics_of_deep learning_and_ neural_networks.PNG\" style=\"width:650px;height:300px;\">"
   ]
  },
  {
   "cell_type": "markdown",
   "metadata": {},
   "source": [
    "## Introduction\n",
    "- Imagine you work for a branch, and you need to build a model predicting how many transactions each customer will make next year\n",
    "- You have predicted data or features like each customer's age, Bank balance(Slide 3/47).\n",
    "- Cosider how simple linear regression model works for this problem.\n",
    "- The linear regression embeds an assumption that the outcome, inthis case how many transaction a user makes, is the sum of individual parts \n",
    "- it starts by saying, \"What is the average?\", then it adds the effect of age, then the effect of bank balance...\n",
    "- The linear regression model isn't identifying the interactions between these parts, and how they effect banking activity.\n",
    "- if we plot predictions from this model, we draw one line with the predictions for retired people, and another for those still working.\n",
    "- the left graph shows predictions from a model with no interactions.\n",
    "- in this model we simply add up the effect of the retirement status, and curent bank balance.\n",
    "- the lack of interactions is reflected by both lines being parallel \n",
    "- the graph from the right shows the prediction from a mmoel that allows interactions(4/47).\n"
   ]
  },
  {
   "cell_type": "markdown",
   "metadata": {},
   "source": [
    "## neural networks are powerful modeling approch that accounts for interactions well\n",
    "## There ability to capture extremely complex interactions also allow them to do amazing things with Text, images, videos, audio, \n",
    "## All the layers that are not the input or output layers are called hidden layers, They are called hidden layers because, While the input and outputs corresponding to visible.\n",
    "\n",
    "## the more nodes we have, the more intractons we can capture"
   ]
  },
  {
   "cell_type": "markdown",
   "metadata": {},
   "source": [
    "<img src=\"images/Comparing neural network models to classical regression models.PNG\" style=\"width:650px;height:300px;\">"
   ]
  },
  {
   "cell_type": "markdown",
   "metadata": {},
   "source": [
    "## Forward propagation\n",
    "How Neural networks use data to make predictions ?\n",
    "- Predicting how many trasactions a user will make at our bank.\n",
    "- We'll make predictions based on only the number of children and number of existing acounts.\n",
    "- the forward propagation algorithm will pass this information through the network to make a prediction in the output layer.\n",
    "- lines connect the inputs to the hidden layer\n",
    "- Each line has a weight indicating how strongly that input effect the hidden node that the line ends at.\n",
    "- we have one weight from the top input into the top node of the layer and one weight from the bottom input to the top node pf the hiddden layer.\n",
    "\n",
    "## weights\n",
    "    - these weights are the parameter, we train or change when we fit a neural network to data.\n",
    "\n",
    "## we do forward propagation for one data point at a time\n",
    "\n"
   ]
  },
  {
   "cell_type": "markdown",
   "metadata": {},
   "source": [
    "## Coding the forward propagation algorithm\n",
    "In this exercise, you'll write code to do forward propagation (prediction) for your first neural network:\n",
    "\n",
    "<img src=\"images/middle1.PNG\" style=\"width:650px;height:300px;\">\n",
    "\n",
    "## Each data point is a customer. \n",
    "- The first input is how many accounts they have.\n",
    "- The second input is how many children they have. \n",
    "- The model will predict how many transactions the user makes in the next year.\n",
    "\n",
    "\n"
   ]
  },
  {
   "cell_type": "markdown",
   "metadata": {},
   "source": [
    "## Instructions\n",
    "\n",
    "- Calculate the value in node 0 by multiplying input_data by its weights weights['node_0'] and computing their sum. This is the 1st node in the hidden layer.\n",
    "- Calculate the value in node 1 using input_data and weights['node_1']. This is the 2nd node in the hidden layer.\n",
    "- Put the hidden layer values into an array. This has been done for you.\n",
    "- Generate the prediction by multiplying hidden_layer_outputs by weights['output'] and computing their sum.\n"
   ]
  },
  {
   "cell_type": "code",
   "execution_count": 31,
   "metadata": {},
   "outputs": [],
   "source": [
    "input_data           = np.array([3, 5])\n",
    "weights              = {'node_0': np.array([2, 4]), 'node_1': np.array([ 4, -5]), 'output': np.array([2, 7])}\n",
    "weights['node_0']    = np.array([2, 4])\n",
    "weights['node_1']    = np.array([ 4, -5])\n",
    "weights['output']    = np.array([2, 7])\n"
   ]
  },
  {
   "cell_type": "code",
   "execution_count": 32,
   "metadata": {},
   "outputs": [
    {
     "name": "stdout",
     "output_type": "stream",
     "text": [
      "-39\n"
     ]
    }
   ],
   "source": [
    "# Calculate node 0 value: node_0_value\n",
    "node_0_value = (input_data * weights['node_0'] ).sum()\n",
    "\n",
    "# Calculate node 1 value: node_1_value\n",
    "node_1_value = (input_data * weights['node_1'] ).sum()\n",
    "\n",
    "# Put node values into array: hidden_layer_outputs\n",
    "hidden_layer_outputs = np.array([node_0_value, node_1_value])\n",
    "\n",
    "# Calculate output: output\n",
    "output = (hidden_layer_outputs * weights['output'] ).sum()\n",
    "\n",
    "# Print output\n",
    "print(output)\n",
    "\n"
   ]
  },
  {
   "cell_type": "markdown",
   "metadata": {},
   "source": [
    "## Activation functions \n",
    "But creating this multiply-add-process is only half the story for hidden layers\n",
    "- For neural networks to achive their maximum predictive power, we must apply something called an activation function in the hidden layer\n",
    "- An activation function allowsx the model to capture non-linearities.\n",
    "- Non-linearities, capture patterns like how going from one children to two children may impact your banking ranscations from going from 3 to 4.\n",
    "\n",
    "\n",
    "<img src=\"images/linear_vs_nonlinear.PNG\" style=\"width:650px;height:300px;\">\n",
    "\n",
    "If the relationship in the data aren't a straight-line relationship, we need an activation function that captures the non-linearities.\n",
    "\n",
    "An activation function is something applied to the value coming into a node, which then transformed it into the value stored in ouput node \n",
    "\n",
    "## The Rectified Linear Activation Function\n",
    "- An \"activation function\" is a function applied at each node. It converts the node's input into some output.\n",
    "\n",
    "- The rectified linear activation function (called ReLU) has been shown to lead to very high-performance networks. This function takes a single number as an input, returning 0 if the input is negative, and the input if the input is positive.\n",
    "\n",
    "\n",
    "Here are some examples:\n",
    "relu(3) = 3 \n",
    "relu(-3) = 0 \n",
    "\n",
    "\n",
    "\n"
   ]
  },
  {
   "cell_type": "markdown",
   "metadata": {},
   "source": [
    "## Instructions\n",
    "- Fill in the definition of the relu() function:\n",
    " - Use the max() function to calculate the value for the output of relu().\n",
    "- Apply the relu() function to node_0_input to calculate node_0_output.\n",
    "- Apply the relu() function to node_1_input to calculate node_1_output."
   ]
  },
  {
   "cell_type": "code",
   "execution_count": 33,
   "metadata": {},
   "outputs": [
    {
     "name": "stdout",
     "output_type": "stream",
     "text": [
      "52\n"
     ]
    }
   ],
   "source": [
    "def relu(input):\n",
    "    '''Define your relu activation function here'''\n",
    "    # Calculate the value for the output of the relu function: output\n",
    "    output = max(0,input )\n",
    "    \n",
    "    # Return the value just calculated\n",
    "    return(output)\n",
    "\n",
    "# Calculate node 0 value: node_0_output\n",
    "node_0_input = (input_data * weights['node_0']).sum()\n",
    "node_0_output = relu(node_0_input)\n",
    "\n",
    "# Calculate node 1 value: node_1_output\n",
    "node_1_input = (input_data * weights['node_1']).sum()\n",
    "node_1_output = relu(node_1_input)\n",
    "\n",
    "# Put node values into array: hidden_layer_outputs\n",
    "hidden_layer_outputs = np.array([node_0_output, node_1_output])\n",
    "\n",
    "# Calculate model output (do not apply relu)\n",
    "model_output = (hidden_layer_outputs * weights['output']).sum()\n",
    "\n",
    "# Print model output\n",
    "print(model_output)"
   ]
  },
  {
   "cell_type": "markdown",
   "metadata": {},
   "source": [
    "You predicted 52 transactions. Without this activation function, you would have predicted a negative number! The real power of activation functions will come soon when you start tuning model weights."
   ]
  },
  {
   "cell_type": "markdown",
   "metadata": {},
   "source": [
    "## Applying the network to many observations/rows of data\n",
    "- You'll now define a function called predict_with_network() which will generate predictions for multiple data observations, which are pre-loaded as input_data. As before, weights are also pre-loaded. In addition, the relu() function you defined in the previous exercise has been pre-loaded."
   ]
  },
  {
   "cell_type": "markdown",
   "metadata": {},
   "source": [
    "## Instructions\n",
    "- Define a function called predict_with_network() that accepts two arguments - input_data_row and weights - and returns a prediction from the network as the output.\n",
    "- Calculate the input and output values for each node, storing them as: node_0_input, node_0_output, node_1_input, and node_1_output.\n",
    "    - To calculate the input value of a node, multiply the relevant arrays together and compute their sum.\n",
    "    - To calculate the output value of a node, apply the relu() function to the input value of the node.\n",
    "- Calculate the model output by calculating input_to_final_layer and model_output in the same ay you calculated the input and output values for the nodes.\n",
    "- Use a for loop to iterate over input_data:\n",
    "    -    Use your predict_with_network() to generate predictions for each row of the input_data - input_data_row. Append each prediction to results.\n"
   ]
  },
  {
   "cell_type": "code",
   "execution_count": 52,
   "metadata": {},
   "outputs": [],
   "source": [
    "input_data = [np.array([3, 5]), np.array([ 1, -1]), np.array([0, 0]), np.array([8, 4])]\n",
    "weights    = {'node_0': np.array([2, 4]), 'node_1': np.array([ 4, -5]), 'output': np.array([2, 7])}"
   ]
  },
  {
   "cell_type": "code",
   "execution_count": 53,
   "metadata": {},
   "outputs": [
    {
     "name": "stdout",
     "output_type": "stream",
     "text": [
      "[52, 63, 0, 148]\n"
     ]
    }
   ],
   "source": [
    "def predict_with_network(input_data_row, weights):\n",
    "    node_0_input   = (input_data_row * weights['node_0']).sum()\n",
    "    node_0_output  = relu(node_0_input)\n",
    "    #\n",
    "    node_1_input   = (input_data_row * weights['node_1']).sum()\n",
    "    node_1_output  = relu(node_1_input)\n",
    "    #\n",
    "    hidden_layer_outputs = np.array([node_0_output, node_1_output])\n",
    "    # Calculate model output\n",
    "    input_to_final_layer  =  (hidden_layer_outputs * weights['output']).sum()\n",
    "    model_output          =  relu(input_to_final_layer)\n",
    "    # Return model output\n",
    "    return(model_output)\n",
    "\n",
    "# Create empty list to store prediction results\n",
    "results = []\n",
    "for input_data_row in input_data:\n",
    "    # Append prediction to results\n",
    "    results.append(predict_with_network(input_data_row,weights))\n",
    "\n",
    "# Print results\n",
    "print(results)\n",
    "    "
   ]
  },
  {
   "cell_type": "markdown",
   "metadata": {},
   "source": [
    "## Deeper networks\n",
    "The difference between modern deep learning and the historical neural network that didn't deliver these amazing results is use of models with not just one hidden layer, but with many sucessive hidden layer\n",
    "- Here is a network with two hidden layers, we first fill in the values for hidden layer one as a function of inputs, then apply the activation function to fill in the values in these nodes.\n",
    "- Then use values from the first hidden layer to fill in the second hidden layer \n",
    "- Then we make a prediction based on output of hidden layer 2\n",
    "\n",
    "\n",
    "\n",
    "<img src=\"images/Multiple layer.PNG\" style=\"width:650px;height:300px;\">\n",
    "\n",
    "\n"
   ]
  },
  {
   "cell_type": "markdown",
   "metadata": {},
   "source": [
    "## Multi-layer neural networks\n",
    "\n",
    "- In this exercise, you'll write code to do forward propagation for a neural network with 2 hidden layers. Each hidden layer has two nodes. The input data has been preloaded as input_data. The nodes in the first hidden layer are called node_0_0 and node_0_1. Their weights are pre-loaded as weights['node_0_0'] and weights['node_0_1'] respectively.\n",
    "\n",
    "- The nodes in the second hidden layer are called node_1_0 and node_1_1. Their weights are pre-loaded as weights['node_1_0'] and weights['node_1_1'] respectively.\n",
    "\n",
    "<img src=\"images/Multi-layer neural networks.PNG\" style=\"width:650px;height:300px;\">\n"
   ]
  },
  {
   "cell_type": "markdown",
   "metadata": {},
   "source": [
    "## Instructions\n",
    "- Calculate node_0_0_input using its weights weights['node_0_0'] and the given input_data. Then apply the relu() function to get node_0_0_output.\n",
    "- Do the same as above for node_0_1_input to get node_0_1_output.\n",
    "- Calculate node_1_0_input using its weights weights['node_1_0'] and the outputs from the first hidden layer - hidden_0_outputs. Then apply the relu() function to get node_1_0_output.\n",
    "- Do the same as above for node_1_1_input to get node_1_1_output.\n",
    "- Calculate model_output using its weights weights['output'] and the outputs from the second hidden layer hidden_1_outputs array. Do not apply the relu() function to this output.\n",
    "\n"
   ]
  },
  {
   "cell_type": "code",
   "execution_count": 47,
   "metadata": {},
   "outputs": [],
   "source": [
    "input_data = np.array([3, 5])\n",
    "weights = {'node_0_0': np.array([2, 4]),\n",
    " 'node_0_1': np.array([ 4, -5]),\n",
    " 'node_1_0': np.array([-1,  2]),\n",
    " 'node_1_1': np.array([1, 2]),\n",
    " 'output': np.array([2, 7])}"
   ]
  },
  {
   "cell_type": "code",
   "execution_count": 48,
   "metadata": {},
   "outputs": [
    {
     "name": "stdout",
     "output_type": "stream",
     "text": [
      "[26  0]\n",
      "[ 0 26]\n",
      "[2 7]\n",
      "182\n"
     ]
    }
   ],
   "source": [
    "def predict_with_network(input_data):\n",
    "    # Calculate node 0 in the first hidden layer\n",
    "    node_0_0_input = (input_data * weights['node_0_0']).sum()\n",
    "    node_0_0_output = relu(node_0_0_input)\n",
    "    # Calculate node 1 in the first hidden layer\n",
    "    node_0_1_input = (input_data * weights['node_0_1']).sum()\n",
    "    node_0_1_output = relu(node_0_1_input)\n",
    "    # Put node values into array: hidden_0_outputs\n",
    "    hidden_0_outputs = np.array([node_0_0_output, node_0_1_output])\n",
    "    print(hidden_0_outputs)\n",
    "    # Calculate node 0 in the second hidden layer\n",
    "    node_1_0_input = (hidden_0_outputs * weights['node_1_0']).sum()\n",
    "    node_1_0_output = relu(node_1_0_input)\n",
    "\n",
    "    # Calculate node 1 in the second hidden layer\n",
    "    node_1_1_input = (hidden_0_outputs * weights['node_1_1']).sum()\n",
    "    node_1_1_output = relu(node_1_1_input)\n",
    "\n",
    "    # Put node values into array: hidden_1_outputs\n",
    "    hidden_1_outputs = np.array([node_1_0_output, node_1_1_output])\n",
    "    print(hidden_1_outputs)\n",
    "    print(weights['output'])\n",
    "    # Calculate model output: model_output\n",
    "    model_output = (hidden_1_outputs * weights['output']).sum()\n",
    "    \n",
    "    # Return model_output\n",
    "    return(model_output)\n",
    "\n",
    "output = predict_with_network(input_data)\n",
    "print(output)\n"
   ]
  },
  {
   "cell_type": "markdown",
   "metadata": {},
   "source": [
    "## Representations are learned\n",
    "\n",
    "\n",
    "<img src=\"images/Representations are learned.PNG\" style=\"width:650px;height:300px;\">"
   ]
  },
  {
   "cell_type": "markdown",
   "metadata": {},
   "source": [
    "## Levels of representation\n",
    "\n",
    "<img src=\"images/Levels of representation.PNG\" style=\"width:650px;height:300px;\">\n"
   ]
  },
  {
   "cell_type": "markdown",
   "metadata": {},
   "source": [
    "## 2. Optimizing a neural network with backward propagation\n",
    "Here, you'll learn how to optimize the predictions generated by your neural networks. You'll do this using a method called backward propagation, which is one of the most important techniques in deep learning. Understanding how it works will give you a strong foundation to build from in the second half of the course.\n",
    "\n",
    "<img src=\"images/Optimizing a neural network with backward propagation.PNG\" style=\"width:650px;height:300px;\">\n",
    "\n"
   ]
  },
  {
   "cell_type": "markdown",
   "metadata": {},
   "source": [
    "## The need for optimization\n",
    "We seen forward - propagation algorithm that neural network use to make predictions\n",
    "However, the mere fact that a model has the structure of a neural network does not guarantee that will make agood predictions.\n",
    "\n",
    "<img src=\"images/Cost_function.PNG\" style=\"width:650px;height:300px;\">\n",
    "\n",
    "Changing any weight will change our prediction\n",
    "\n",
    "\n",
    "<img src=\"images/Cost_function2.PNG\" style=\"width:650px;height:300px;\">\n",
    "\n",
    "Cosf function is also called as mean Square error\n",
    "\n",
    "<img src=\"images/Mean_Square_Error.PNG\" style=\"width:650px;height:300px;\">"
   ]
  },
  {
   "cell_type": "markdown",
   "metadata": {},
   "source": [
    "## Coding how weight changes affect accuracy\n",
    "Now you'll get to change weights in a real network and see how they affect model accuracy!\n",
    "\n",
    "<img src=\"images/s.PNG\" style=\"width:650px;height:300px;\">\n",
    "\n",
    "- Its weights have been pre-loaded as weights_0. Your task in this exercise is to update a single weight in weights_0 to create weights_1, which gives a perfect prediction (in which the predicted value is equal to target_actual: 3).\n",
    "\n",
    "- Use a pen and paper if necessary to experiment with different combinations. You'll use the predict_with_network() function, which takes an array of data as the first argument, and weights as the second argument.\n"
   ]
  },
  {
   "cell_type": "markdown",
   "metadata": {},
   "source": [
    "## Instructions\n",
    "- Create a dictionary of weights called weights_1 where you have changed 1 weight from weights_0 (You only need to make 1 edit to weights_0 to generate the perfect prediction).\n",
    "- Obtain predictions with the new weights using the predict_with_network() function with input_data and weights_1.\n",
    "- Calculate the error for the new weights by subtracting target_actual from model_output_1.\n",
    "\n"
   ]
  },
  {
   "cell_type": "code",
   "execution_count": null,
   "metadata": {},
   "outputs": [],
   "source": []
  },
  {
   "cell_type": "code",
   "execution_count": 54,
   "metadata": {},
   "outputs": [
    {
     "name": "stdout",
     "output_type": "stream",
     "text": [
      "6\n",
      "0\n"
     ]
    }
   ],
   "source": [
    "# The data point you will make a prediction for\n",
    "input_data = np.array([0, 3])\n",
    "\n",
    "# Sample weights\n",
    "weights_0 = {'node_0': [2, 1],\n",
    "             'node_1': [1, 2],\n",
    "             'output': [1, 1]\n",
    "            }\n",
    "\n",
    "# The actual target value, used to calculate the error\n",
    "target_actual = 3\n",
    "\n",
    "# Make prediction using original weights\n",
    "model_output_0 = predict_with_network(input_data, weights_0)\n",
    "\n",
    "# Calculate error: error_0\n",
    "error_0 = model_output_0 - target_actual\n",
    "\n",
    "# Create weights that cause the network to make perfect prediction (3): weights_1\n",
    "weights_1 = {'node_0': [2, 1],\n",
    "             'node_1': [1, 0],\n",
    "             'output': [1, 1]\n",
    "            }\n",
    "\n",
    "# Make prediction using new weights: model_output_1\n",
    "model_output_1 = predict_with_network(input_data, weights_1)\n",
    "\n",
    "# Calculate error: error_1\n",
    "error_1 = model_output_1 - target_actual\n",
    "\n",
    "# Print error_0 and error_1\n",
    "print(error_0)\n",
    "print(error_1)"
   ]
  },
  {
   "cell_type": "markdown",
   "metadata": {},
   "source": [
    "## Scaling up to multiple data points\n",
    "- You've seen how different weights will have different accuracies on a single prediction. But usually, you'll want to measure model accuracy on many points. You'll now write code to compare model accuracies for two different sets of weights, which have been stored as weights_0 and weights_1\n",
    "\n",
    "- input_data is a list of arrays. Each item in that list contains the data to make a single prediction. target_actuals is a list of numbers. Each item in that list is the actual value we are trying to predict.\n",
    "\n",
    "- In this exercise, you'll use the mean_squared_error() function from sklearn.metrics. It takes the true values and the predicted values as arguments.\n",
    "\n",
    "- You'll also use the preloaded predict_with_network() function, which takes an array of data as the first argument, and weights as the second argument.\n",
    "\n",
    "\n",
    "\n"
   ]
  },
  {
   "cell_type": "markdown",
   "metadata": {},
   "source": [
    "## Instructions\n",
    "\n",
    "- Import mean_squared_error from sklearn.metrics.\n",
    "- Using a for loop to iterate over each row of input_data:\n",
    "    - Make predictions for each row with weights_0 using the predict_with_network() function and append it to model_output_0.\n",
    "    - Do the same for weights_1, appending the predictions to model_output_1.\n",
    "- Calculate the mean squared error of model_output_0 and then model_output_1 using the mean_squared_error() function. The first argument should be the actual values (target_actuals), and the second argument should be the predicted values (model_output_0 or model_output_1).\n"
   ]
  },
  {
   "cell_type": "code",
   "execution_count": 64,
   "metadata": {},
   "outputs": [],
   "source": [
    "weights_0       = {'node_0': np.array([2, 1]), 'node_1': np.array([1, 2]), 'output': np.array([1, 1])}\n",
    "weights_1       = {'node_0': np.array([2, 1]),\n",
    " 'node_1': np.array([1. , 1.5]),\n",
    " 'output': np.array([1. , 1.5])}\n",
    "target_actuals  = [1, 3, 5, 7]\n",
    "input_data      = [np.array([0, 3]), np.array([1, 2]), np.array([-1, -2]), np.array([4, 0])]"
   ]
  },
  {
   "cell_type": "code",
   "execution_count": 65,
   "metadata": {},
   "outputs": [
    {
     "name": "stdout",
     "output_type": "stream",
     "text": [
      "Mean squared error with weights_0: 37.500000\n",
      "Mean squared error with weights_1: 49.890625\n"
     ]
    }
   ],
   "source": [
    "from sklearn.metrics import mean_squared_error\n",
    "\n",
    "# Create model_output_0 \n",
    "model_output_0 = []\n",
    "# Create model_output_0\n",
    "model_output_1 = []\n",
    "\n",
    "# Loop over input_data\n",
    "for row in input_data:\n",
    "    # Append prediction to model_output_0\n",
    "    model_output_0.append(predict_with_network(row, weights_0))\n",
    "    \n",
    "    # Append prediction to model_output_1\n",
    "    model_output_1.append(predict_with_network(row, weights_1))\n",
    "\n",
    "# Calculate the mean squared error for model_output_0: mse_0\n",
    "mse_0 = mean_squared_error(target_actuals,model_output_0)\n",
    "\n",
    "# Calculate the mean squared error for model_output_1: mse_1\n",
    "mse_1 = mean_squared_error(target_actuals,model_output_1)\n",
    "\n",
    "# Print mse_0 and mse_1\n",
    "print(\"Mean squared error with weights_0: %f\" %mse_0)\n",
    "print(\"Mean squared error with weights_1: %f\" %mse_1)"
   ]
  },
  {
   "cell_type": "markdown",
   "metadata": {},
   "source": [
    "## Gradient descent\n",
    "How do we find the relevent slope for each weight we need to update?\n",
    "- Calculate a slope for a weight, and in this example we will look at a single data point.\n",
    "- Weights feed from one node into another, and you always get the slope you need by multiplying three things.\n",
    "   - First, Slope of the loss function with respect to the value at the node we feed into.\n",
    "   - Second, the value of the node that feed into our weight.\n",
    "   - Third, the slope of the activation function with respect to the value we feed into.\n",
    "\n",
    "## Let's start with the slope of the loss function with respect to the value of the node our weight feeds into\n",
    "   - In this case, that node is the model prediction\n",
    "   \n",
    "<img src=\"images/Slope Calculation.PNG\" style=\"width:650px;height:300px;\">  \n",
    "\n",
    "## Second\n",
    "The second thing we multiply is the value at the node we are feeding from, Here, that is 3  \n",
    "\n",
    "\n",
    "<img src=\"images/Slope calculation2.PNG\" style=\"width:650px;height:300px;\"> \n",
    "\n",
    "## third\n",
    "No value here\n",
    "\n",
    "## Final\n",
    "Final result for the slope of the loss if we graphed it against this is weight is 2 times -4 times 3 or negative 24.\n",
    "\n",
    "\n",
    "<img src=\"images/Slope calculation3.PNG\" style=\"width:650px;height:300px;\"> \n",
    "\n",
    "\n",
    "\n"
   ]
  },
  {
   "cell_type": "markdown",
   "metadata": {},
   "source": [
    "## For multiple weights feeding to the output, we repeat this calculation separately for each weight, then we update both weights simultaneously using their respective derivatives."
   ]
  },
  {
   "cell_type": "markdown",
   "metadata": {},
   "source": [
    "## Calculating slopes\n",
    "- You're now going to practice calculating slopes. When plotting the mean-squared error loss function against predictions, the slope is 2 * x * (y-xb), or 2 * input_data * error. Note that x and b may have multiple numbers (x is a vector for each data point, and b is a vector). In this case, the output will also be a vector, which is exactly what you want.\n",
    "\n",
    "- You're ready to write the code to calculate this slope while using a single data point. You'll use pre-defined weights called weights as well as data for a single point called input_data. The actual value of the target you want to predict is stored in target.\n"
   ]
  },
  {
   "cell_type": "markdown",
   "metadata": {},
   "source": [
    "## Instructions\n",
    "- Calculate the predictions, preds, by multiplying weights by the input_data and computing their sum.\n",
    "- Calculate the error, which is target minus preds. Notice that this error corresponds to y-xb in the gradient expression.\n",
    "- Calculate the slope of the loss function with respect to the prediction. To do this, you need to take the product of input_data and error and multiply that by 2."
   ]
  },
  {
   "cell_type": "code",
   "execution_count": 66,
   "metadata": {},
   "outputs": [],
   "source": [
    "weights      = np.array([0, 2, 1])\n",
    "input_data   = np.array([1, 2, 3])\n",
    "target       = 0"
   ]
  },
  {
   "cell_type": "code",
   "execution_count": 68,
   "metadata": {},
   "outputs": [
    {
     "name": "stdout",
     "output_type": "stream",
     "text": [
      "[-14 -28 -42]\n"
     ]
    }
   ],
   "source": [
    "# Calculate the predictions: preds\n",
    "preds = (weights * input_data).sum()\n",
    "\n",
    "# Calculate the error: error\n",
    "error = target - preds\n",
    "\n",
    "# Calculate the slope: slope\n",
    "slope = 2 * error * input_data\n",
    "\n",
    "# Print the slope\n",
    "print(slope)"
   ]
  },
  {
   "cell_type": "markdown",
   "metadata": {},
   "source": [
    "## Improving model weights\n",
    "- Hurray! You've just calculated the slopes you need. Now it's time to use those slopes to improve your model. If you add the slopes to your weights, you will move in the right direction. However, it's possible to move too far in that direction. So you will want to take a small step in that direction first, using a lower learning rate, and verify that the model is improving.\n",
    "\n",
    "- The weights have been pre-loaded as weights, the actual value of the target as target, and the input data as input_data. The predictions from the initial weights are stored as preds."
   ]
  },
  {
   "cell_type": "code",
   "execution_count": 69,
   "metadata": {},
   "outputs": [
    {
     "name": "stdout",
     "output_type": "stream",
     "text": [
      "7\n",
      "5.04\n"
     ]
    }
   ],
   "source": [
    "# Set the learning rate: learning_rate\n",
    "learning_rate = 0.01\n",
    "    \n",
    "# Calculate the predictions: preds\n",
    "preds = (weights * input_data).sum()\n",
    "    \n",
    "# Calculate the error: error\n",
    "error = preds - target\n",
    "    \n",
    "# Calculate the slope: slope\n",
    "slope = 2 * input_data * error\n",
    "    \n",
    "# Update the weights: weights_updated\n",
    "weights_updated = weights - learning_rate * slope\n",
    "    \n",
    "# Get updated predictions: preds_updated\n",
    "preds_updated = (weights_updated * input_data).sum()\n",
    "    \n",
    "# Calculate updated error: error_updated\n",
    "error_updated = preds_updated - target\n",
    "    \n",
    "# Print the original error\n",
    "print(error)\n",
    "    \n",
    "# Print the updated error\n",
    "print(error_updated)"
   ]
  },
  {
   "cell_type": "markdown",
   "metadata": {},
   "source": [
    "## Making multiple updates to weights\n",
    "- You're now going to make multiple updates so you can dramatically improve your model weights, and see how the predictions improve with each update.\n",
    "- To keep your code clean, there is a pre-loaded get_slope() function that takes input_data, target, and weights as arguments. There is also a get_mse() function that takes the same arguments. The input_data, target, and weights have been pre-loaded.\n",
    "- This network does not have any hidden layers, and it goes directly from the input (with 3 nodes) to an output node. Note that weights is a single array.\n",
    "- We have also pre-loaded matplotlib.pyplot, and the error history will be plotted after you have done your gradient descent steps."
   ]
  },
  {
   "cell_type": "markdown",
   "metadata": {},
   "source": [
    "## Instructions\n",
    "Using a for loop to iteratively update weights:\n",
    "   - Calculate the slope using the get_slope() function\n",
    "    - Update the weights using a learning rate of 0.01.\n",
    "    - Calculate the mean squared error (mse) with the updated weights using the get_mse() function.\n",
    "    - Append mse to mse_hist.\n",
    "    "
   ]
  },
  {
   "cell_type": "code",
   "execution_count": 144,
   "metadata": {},
   "outputs": [],
   "source": [
    "input_data = np.array([1, 2, 3])\n",
    "target     = 0\n",
    "weights    = np.array([0, 2, 1])  \n"
   ]
  },
  {
   "cell_type": "code",
   "execution_count": 145,
   "metadata": {},
   "outputs": [],
   "source": [
    "def get_slope( input_data, target, weights):\n",
    "    pred   = (weights * input_data).sum()\n",
    "    error  =  pred - target\n",
    "    slope  = 2 * error * input_data\n",
    "    return slope\n",
    "\n",
    "def get_mse(input_data, target, weights):\n",
    "    preds_updated = (weights * input_data).sum()\n",
    "    mse = preds_updated - target\n",
    "    return mse * 5.04"
   ]
  },
  {
   "cell_type": "code",
   "execution_count": 146,
   "metadata": {
    "scrolled": true
   },
   "outputs": [
    {
     "name": "stdout",
     "output_type": "stream",
     "text": [
      "I: 0\n",
      "slop: [14 28 42]\n",
      "weights: [-0.14  1.72  0.58]\n",
      "input: [1 2 3]\n",
      "mse: 25.401600000000002\n",
      "I: 1\n",
      "slop: [10.08 20.16 30.24]\n",
      "weights: [-0.2408  1.5184  0.2776]\n",
      "input: [1 2 3]\n",
      "mse: 18.289152\n",
      "I: 2\n",
      "slop: [ 7.2576 14.5152 21.7728]\n",
      "weights: [-0.313376  1.373248  0.059872]\n",
      "input: [1 2 3]\n",
      "mse: 13.168189440000003\n",
      "I: 3\n",
      "slop: [ 5.225472 10.450944 15.676416]\n",
      "weights: [-0.36563072  1.26873856 -0.09689216]\n",
      "input: [1 2 3]\n",
      "mse: 9.481096396800002\n",
      "I: 4\n",
      "slop: [ 3.76233984  7.52467968 11.28701952]\n",
      "weights: [-0.40325412  1.19349176 -0.20976236]\n",
      "input: [1 2 3]\n",
      "mse: 6.826389405696\n",
      "I: 5\n",
      "slop: [2.70888468 5.41776937 8.12665405]\n",
      "weights: [-0.43034297  1.13931407 -0.2910289 ]\n",
      "input: [1 2 3]\n",
      "mse: 4.915000372101121\n",
      "I: 6\n",
      "slop: [1.95039697 3.90079395 5.85119092]\n",
      "weights: [-0.44984693  1.10030613 -0.3495408 ]\n",
      "input: [1 2 3]\n",
      "mse: 3.5388002679128063\n",
      "I: 7\n",
      "slop: [1.40428582 2.80857164 4.21285746]\n",
      "weights: [-0.46388979  1.07222041 -0.39166938]\n",
      "input: [1 2 3]\n",
      "mse: 2.5479361928972204\n",
      "I: 8\n",
      "slop: [1.01108579 2.02217158 3.03325737]\n",
      "weights: [-0.47400065  1.0519987  -0.42200195]\n",
      "input: [1 2 3]\n",
      "mse: 1.834514058885999\n",
      "I: 9\n",
      "slop: [0.72798177 1.45596354 2.18394531]\n",
      "weights: [-0.48128047  1.03743906 -0.44384141]\n",
      "input: [1 2 3]\n",
      "mse: 1.3208501223979179\n",
      "I: 10\n",
      "slop: [0.52414687 1.04829375 1.57244062]\n",
      "weights: [-0.48652194  1.02695612 -0.45956581]\n",
      "input: [1 2 3]\n",
      "mse: 0.9510120881265026\n",
      "I: 11\n",
      "slop: [0.37738575 0.7547715  1.13215725]\n",
      "weights: [-0.4902958   1.01940841 -0.47088739]\n",
      "input: [1 2 3]\n",
      "mse: 0.6847287034510818\n",
      "I: 12\n",
      "slop: [0.27171774 0.54343548 0.81515322]\n",
      "weights: [-0.49301297  1.01397406 -0.47903892]\n",
      "input: [1 2 3]\n",
      "mse: 0.4930046664847791\n",
      "I: 13\n",
      "slop: [0.19563677 0.39127354 0.58691032]\n",
      "weights: [-0.49496934  1.01006132 -0.48490802]\n",
      "input: [1 2 3]\n",
      "mse: 0.3549633598690399\n",
      "I: 14\n",
      "slop: [0.14085848 0.28171695 0.42257543]\n",
      "weights: [-0.49637792  1.00724415 -0.48913377]\n",
      "input: [1 2 3]\n",
      "mse: 0.25557361910571025\n",
      "I: 15\n",
      "slop: [0.1014181  0.20283621 0.30425431]\n",
      "weights: [-0.49739211  1.00521579 -0.49217632]\n",
      "input: [1 2 3]\n",
      "mse: 0.18401300575611015\n",
      "I: 16\n",
      "slop: [0.07302103 0.14604207 0.2190631 ]\n",
      "weights: [-0.49812232  1.00375537 -0.49436695]\n",
      "input: [1 2 3]\n",
      "mse: 0.1324893641443981\n",
      "I: 17\n",
      "slop: [0.05257514 0.10515029 0.15772543]\n",
      "weights: [-0.49864807  1.00270386 -0.4959442 ]\n",
      "input: [1 2 3]\n",
      "mse: 0.09539234218396819\n",
      "I: 18\n",
      "slop: [0.0378541  0.07570821 0.11356231]\n",
      "weights: [-0.49902661  1.00194678 -0.49707983]\n",
      "input: [1 2 3]\n",
      "mse: 0.06868248637245598\n",
      "I: 19\n",
      "slop: [0.02725495 0.05450991 0.08176486]\n",
      "weights: [-0.49929916  1.00140168 -0.49789747]\n",
      "input: [1 2 3]\n",
      "mse: 0.0494513901881688\n",
      "I: 20\n",
      "slop: [0.01962357 0.03924714 0.0588707 ]\n",
      "weights: [-0.49949539  1.00100921 -0.49848618]\n",
      "input: [1 2 3]\n",
      "mse: 0.03560500093548041\n",
      "I: 21\n",
      "slop: [0.01412897 0.02825794 0.04238691]\n",
      "weights: [-0.49963668  1.00072663 -0.49891005]\n",
      "input: [1 2 3]\n",
      "mse: 0.025635600673545138\n",
      "I: 22\n",
      "slop: [0.01017286 0.02034571 0.03051857]\n",
      "weights: [-0.49973841  1.00052318 -0.49921524]\n",
      "input: [1 2 3]\n",
      "mse: 0.018457632484952545\n"
     ]
    },
    {
     "data": {
      "image/png": "[encoded data removed]",
      "text/plain": [
       "<Figure size 360x288 with 1 Axes>"
      ]
     },
     "metadata": {},
     "output_type": "display_data"
    }
   ],
   "source": [
    "n_updates = 23\n",
    "mse_hist = []\n",
    "\n",
    "# Iterate over the number of updates\n",
    "for i in range(n_updates):\n",
    "    # Calculate the slope: slope\n",
    "    slope = get_slope(input_data, target, weights)\n",
    "    print('I:',i)\n",
    "    print('slop:',slope)\n",
    "    # Update the weights: weights\n",
    "    weights = weights - 0.01 * slope\n",
    "    \n",
    "    # Calculate mse with new weights: mse\n",
    "    print(\"weights:\",weights)\n",
    "    print('input:', input_data)\n",
    "    mse = get_mse(input_data, target, weights)\n",
    "    print('mse:', mse)\n",
    "    # Append the mse to mse_hist\n",
    "    mse_hist.append(mse)\n",
    "\n",
    "# Plot the mse history\n",
    "plt.plot(mse_hist)\n",
    "plt.xlabel('Iterations')\n",
    "plt.ylabel('Mean Squared Error')\n",
    "plt.show()"
   ]
  },
  {
   "cell_type": "markdown",
   "metadata": {},
   "source": [
    "## Backpropagation\n",
    "You've used gradient descent to optimize weights in a simple model.\n",
    "\n",
    "Now we'll add a technique called \"Back Propagation \" to calculate the slope we need to optimize more complex deep learning models\n",
    "- Just as forward propagation sends input data throught the hiden layers and into the output layer\n",
    "- Back propagation takes the error from the output layer and propagates it backward throught hidden layers, towards the input layer\n",
    "\n",
    "- it calculates the necessary slopes sequentially from the weights closest to the prediction, we use these slopes to updata your weights \n",
    "\n",
    "\n",
    "<img src=\"images/Back_propagation.PNG\" style=\"width:650px;height:300px;\">  \n",
    "\n",
    "Each time you generate predictions using forward propagation, you update the weights using backward propagation.\n",
    "\n",
    "<img src=\"images/Relationship.PNG\" style=\"width:650px;height:300px;\">  \n",
    "\n",
    " In this situation, the updates to all weights in the network would indeed also be 0\n",
    " \n",
    "<img src=\"images/s1.PNG\" style=\"width:650px;height:300px;\">  "
   ]
  },
  {
   "cell_type": "markdown",
   "metadata": {},
   "source": [
    "## Backpropagation in practice\n",
    "Back propagation in a deeper network \n",
    "- Start a last set of weights(1,2), we multiply 3 things\n",
    "    - The node values feeding into these weights are (1, 3) \n",
    "    - the relevent slope for the output node is 2 times the error that is 6 \n",
    "<img src=\"images/s3.PNG\" style=\"width:650px;height:300px;\">  "
   ]
  },
  {
   "cell_type": "code",
   "execution_count": 147,
   "metadata": {},
   "outputs": [],
   "source": [
    "input_data = np.array([1, 3])\n",
    "target     = 4\n",
    "weights    = np.array([1, 2])  "
   ]
  },
  {
   "cell_type": "code",
   "execution_count": 153,
   "metadata": {},
   "outputs": [
    {
     "name": "stdout",
     "output_type": "stream",
     "text": [
      "Error: 3\n",
      "Slope: [ 6 18]\n"
     ]
    }
   ],
   "source": [
    "# Set the learning rate: learning_rate\n",
    "learning_rate = 0.01\n",
    "    \n",
    "# Calculate the predictions: preds\n",
    "preds = (weights * input_data).sum()\n",
    "    \n",
    "# Calculate the error: error\n",
    "error = preds - target\n",
    "print('Error:',error)    \n",
    "# Calculate the slope: slope\n",
    "slope = 2 * input_data * error\n",
    "print('Slope:',slope)    "
   ]
  },
  {
   "cell_type": "markdown",
   "metadata": {},
   "source": [
    "The slope we just calculated feed into the formula associated with weights further back in the network.\n",
    "Let's do that calculation one layer back now \n",
    "- This graph uses white to denote node values, Black to denote weights values and red shows the calculated slopes of the loss function, with respect to that node\n",
    "\n",
    "<img src=\"images/s4.PNG\" style=\"width:650px;height:300px;\">  \n",
    "-----\n",
    "<img src=\"images/s5.PNG\" style=\"width:650px;height:300px;\"> \n",
    "\n",
    "<img src=\"images/s6.PNG\" style=\"width:650px;height:300px;\"> \n"
   ]
  },
  {
   "cell_type": "markdown",
   "metadata": {},
   "source": [
    "## A round of backpropagation\n",
    "In the network shown below, we have done forward propagation, and node values calculated as part of forward propagation are shown in white. The weights are shown in black. Layers after the question mark show the slopes calculated as part of back-prop, rather than the forward-prop values. Those slope values are shown in purple.\n",
    "\n",
    "This network again uses the ReLU activation function, so the slope of the activation function is 1 for any node receiving a positive value as input. Assume the node being examined had a positive value (so the activation function's slope is 1).\n",
    "\n",
    "<img src=\"images/s7.PNG\" style=\"width:650px;height:300px;\"> "
   ]
  },
  {
   "cell_type": "markdown",
   "metadata": {},
   "source": [
    "## Hint\n",
    "- Recall the three things you need to multiply to get slopes associated with any weight:\n",
    " - Value at the node feeding into the weight.\n",
    " - The slope of the activation function for the node being fed into.\n",
    " - The slope of the loss function with respect to the output node.\n",
    " \n",
    "The slope needed to update this weight is indeed 6."
   ]
  },
  {
   "cell_type": "markdown",
   "metadata": {},
   "source": [
    "## 3 Building deep learning models with keras\n",
    "In this chapter, you'll use the keras library to build deep learning models for both regression as well as classification! You'll learn about the Specify-Compile-Fit workflow that you can use to make predictions and by the end of this chapter, you'll have all the tools necessary to build deep neural networks!\n",
    "\n",
    "<img src=\"images/s8.PNG\" style=\"width:650px;height:300px;\"> "
   ]
  },
  {
   "cell_type": "markdown",
   "metadata": {},
   "source": [
    "## Creating a Keras model\n",
    "The keras workflow has 4 steps -\n",
    " - First, you specify the architecture, like \n",
    "     - how many layers do you want?\n",
    "     - how many nodes in each layer?\n",
    "     - What activation function do you want to use in each layer ?\n",
    " - Compile model \n",
    "     - This specifies the loss function, and some details about how optimization works.\n",
    " - Fit the model\n",
    "     - Which is that cycle of back-propagation and optimization of model weights with your data.\n",
    " - Predict\n",
    "     - Finally you will want to use your model to make predictions"
   ]
  },
  {
   "cell_type": "markdown",
   "metadata": {},
   "source": [
    "First,\n",
    "This code has three blocks.\n",
    "- First, We import what we need\n",
    "- The second block of two lines reads the data, we read the data here So we can find the number of nodes in the input layer\n",
    "\n",
    "We always need to specify how many columns are in the input when building a keras model, because that is the number of nodes in the input layer\n",
    "- We then strat building the model\n",
    "    - the first line of model specification is model = Sequential.\n",
    "    - There are two ways to build a model, and we will focus on sequential, which is the easier way to build a model\n",
    "    - Sequential models require that each layer has weights or connections only to the one layer coming directly after it in the network diagram\n",
    "    - we start adding the layers using the add method of the model, the standard layer type, is called a dense layer.\n",
    "    - It's is called dense because all of the nodes in the previous layer connect to all of the nodes in the current layer.\n",
    "        - in each layer we specify the number of nodes as the frst positional argument and the activation function we want to use \n",
    "\n",
    "<img src=\"images/s9.PNG\" style=\"width:650px;height:300px;\"> "
   ]
  },
  {
   "cell_type": "markdown",
   "metadata": {},
   "source": [
    "## Understanding your data\n",
    "- You will soon start building models in Keras to predict wages based on various professional and demographic factors. Before you start building a model, it's good to understand your data by performing some exploratory analysis.\n",
    "- The data is pre-loaded into a pandas DataFrame called df. Use the .head() and .describe() methods in the IPython Shell for a quick overview of the DataFrame.\n",
    "- The target variable you'll be predicting is wage_per_hour. Some of the predictor variables are binary indicators, where a value of 1 represents True, and 0 represents False.\n",
    "- Of the 9 predictor variables in the DataFrame, how many are binary indicators? The min and max values as shown by .describe() will be informative here. How many binary indicator predictors are there?"
   ]
  },
  {
   "cell_type": "markdown",
   "metadata": {},
   "source": [
    "## Specifying a model\n",
    "- Now you'll get to work with your first model in Keras, and will immediately be able to run more complex neural network models on larger datasets compared to the first two chapters.\n",
    "- To start, you'll take the skeleton of a neural network and add a hidden layer and an output layer. You'll then fit that model and see Keras do the optimization so your model continually gets better.\n",
    "- As a start, you'll predict workers wages based on characteristics like their industry, education and level of experience. You can find the dataset in a pandas dataframe called df. For convenience, everything in df except for the target has been converted to a NumPy matrix called predictors. The target, wage_per_hour, is available as a NumPy matrix called target.\n",
    "- For all exercises in this chapter, we've imported the Sequential model constructor, the Dense layer constructor, and pandas.\n"
   ]
  },
  {
   "cell_type": "markdown",
   "metadata": {},
   "source": [
    "## Instructions\n",
    "- Store the number of columns in the predictors data to n_cols. This has been done for you.\n",
    "- Start by creating a Sequential model called model.\n",
    "- Use the .add() method on model to add a Dense layer.\n",
    "    - Add 50 units, specify activation='relu', and the input_shape parameter to be the tuple (n_cols,) which means it has n_cols items in each row of data, and any number of rows of data are acceptable as inputs.\n",
    "- Add another Dense layer. This should have 32 units and a 'relu' activation.\n",
    "- Finally, add an output layer, which is a Dense layer with a single node. Don't use any activation function here."
   ]
  },
  {
   "cell_type": "code",
   "execution_count": 2,
   "metadata": {},
   "outputs": [],
   "source": [
    "path = 'C:\\\\Users\\\\kavya\\\\Desktop\\\\Deep Learning in Python\\\\Datasets\\\\'"
   ]
  },
  {
   "cell_type": "code",
   "execution_count": 62,
   "metadata": {},
   "outputs": [
    {
     "data": {
      "text/html": [
       "<div>\n",
       "<style scoped>\n",
       "    .dataframe tbody tr th:only-of-type {\n",
       "        vertical-align: middle;\n",
       "    }\n",
       "\n",
       "    .dataframe tbody tr th {\n",
       "        vertical-align: top;\n",
       "    }\n",
       "\n",
       "    .dataframe thead th {\n",
       "        text-align: right;\n",
       "    }\n",
       "</style>\n",
       "<table border=\"1\" class=\"dataframe\">\n",
       "  <thead>\n",
       "    <tr style=\"text-align: right;\">\n",
       "      <th></th>\n",
       "      <th>wage_per_hour</th>\n",
       "      <th>union</th>\n",
       "      <th>education_yrs</th>\n",
       "      <th>experience_yrs</th>\n",
       "      <th>age</th>\n",
       "      <th>female</th>\n",
       "      <th>marr</th>\n",
       "      <th>south</th>\n",
       "      <th>manufacturing</th>\n",
       "      <th>construction</th>\n",
       "    </tr>\n",
       "  </thead>\n",
       "  <tbody>\n",
       "    <tr>\n",
       "      <th>0</th>\n",
       "      <td>5.10</td>\n",
       "      <td>0</td>\n",
       "      <td>8</td>\n",
       "      <td>21</td>\n",
       "      <td>35</td>\n",
       "      <td>1</td>\n",
       "      <td>1</td>\n",
       "      <td>0</td>\n",
       "      <td>1</td>\n",
       "      <td>0</td>\n",
       "    </tr>\n",
       "    <tr>\n",
       "      <th>1</th>\n",
       "      <td>4.95</td>\n",
       "      <td>0</td>\n",
       "      <td>9</td>\n",
       "      <td>42</td>\n",
       "      <td>57</td>\n",
       "      <td>1</td>\n",
       "      <td>1</td>\n",
       "      <td>0</td>\n",
       "      <td>1</td>\n",
       "      <td>0</td>\n",
       "    </tr>\n",
       "    <tr>\n",
       "      <th>2</th>\n",
       "      <td>6.67</td>\n",
       "      <td>0</td>\n",
       "      <td>12</td>\n",
       "      <td>1</td>\n",
       "      <td>19</td>\n",
       "      <td>0</td>\n",
       "      <td>0</td>\n",
       "      <td>0</td>\n",
       "      <td>1</td>\n",
       "      <td>0</td>\n",
       "    </tr>\n",
       "    <tr>\n",
       "      <th>3</th>\n",
       "      <td>4.00</td>\n",
       "      <td>0</td>\n",
       "      <td>12</td>\n",
       "      <td>4</td>\n",
       "      <td>22</td>\n",
       "      <td>0</td>\n",
       "      <td>0</td>\n",
       "      <td>0</td>\n",
       "      <td>0</td>\n",
       "      <td>0</td>\n",
       "    </tr>\n",
       "    <tr>\n",
       "      <th>4</th>\n",
       "      <td>7.50</td>\n",
       "      <td>0</td>\n",
       "      <td>12</td>\n",
       "      <td>17</td>\n",
       "      <td>35</td>\n",
       "      <td>0</td>\n",
       "      <td>1</td>\n",
       "      <td>0</td>\n",
       "      <td>0</td>\n",
       "      <td>0</td>\n",
       "    </tr>\n",
       "  </tbody>\n",
       "</table>\n",
       "</div>"
      ],
      "text/plain": [
       "   wage_per_hour  union  education_yrs  experience_yrs  age  female  marr  \\\n",
       "0           5.10      0              8              21   35       1     1   \n",
       "1           4.95      0              9              42   57       1     1   \n",
       "2           6.67      0             12               1   19       0     0   \n",
       "3           4.00      0             12               4   22       0     0   \n",
       "4           7.50      0             12              17   35       0     1   \n",
       "\n",
       "   south  manufacturing  construction  \n",
       "0      0              1             0  \n",
       "1      0              1             0  \n",
       "2      0              1             0  \n",
       "3      0              0             0  \n",
       "4      0              0             0  "
      ]
     },
     "execution_count": 62,
     "metadata": {},
     "output_type": "execute_result"
    }
   ],
   "source": [
    "df = pd.read_csv(path+'Hourly wages.csv',index_col=False)\n",
    "df.head()"
   ]
  },
  {
   "cell_type": "code",
   "execution_count": 63,
   "metadata": {},
   "outputs": [
    {
     "data": {
      "text/plain": [
       "(534, 9)"
      ]
     },
     "execution_count": 63,
     "metadata": {},
     "output_type": "execute_result"
    }
   ],
   "source": [
    "predictors = df.iloc[:,1:].values\n",
    "predictors.shape\n"
   ]
  },
  {
   "cell_type": "code",
   "execution_count": 64,
   "metadata": {},
   "outputs": [
    {
     "data": {
      "text/plain": [
       "(534,)"
      ]
     },
     "execution_count": 64,
     "metadata": {},
     "output_type": "execute_result"
    }
   ],
   "source": [
    "target = df.iloc[:,0].values\n",
    "target.shape"
   ]
  },
  {
   "cell_type": "code",
   "execution_count": 32,
   "metadata": {},
   "outputs": [],
   "source": [
    "# Save the number of columns in predictors: n_cols\n",
    "n_cols = predictors.shape[1]\n",
    "\n",
    "# Set up the model: model\n",
    "model = Sequential()\n",
    "\n",
    "# Add the first layer\n",
    "model.add(Dense(50,activation= 'relu',input_shape = (n_cols,)))\n",
    "\n",
    "# Add the second layer\n",
    "model.add(Dense(32,activation= 'relu'))\n",
    "\n",
    "# Add the output layer\n",
    "model.add(Dense(1))\n"
   ]
  },
  {
   "cell_type": "markdown",
   "metadata": {},
   "source": [
    "## Compiling and fitting a model \n",
    "The compile methods have two important methods for you to choose\n",
    "  - The first is what optimiazer to use, which control the learning rate.\n",
    "      - in pratice, the right choice of learning rate can make a big difference for how quickly our model finds weights, and even how good a set of weights it can find \n",
    "  -  there are few algorithms that automatically tune the learning rate \n",
    "  - \"Adam \" ia usually a good choice as you go to optimaizer.\n",
    "Loss Function.\n",
    "    - Mean Square Error is the most common choice for regression problems.\n",
    "Fitting a model means, Applying backpropagation and gradient descent with your data to update the weights\n",
    "    - scaling data before fitting can ease optimization "
   ]
  },
  {
   "cell_type": "markdown",
   "metadata": {},
   "source": [
    "## Compiling the model\n",
    "- You're now going to compile the model you specified earlier. To compile the model, you need to specify the optimizer and loss function to use. In the video, Dan mentioned that the Adam optimizer is an excellent choice. You can read more about it as well as other keras optimizers here, and if you are really curious to learn more, you can read the original paper that introduced the Adam optimizer.\n",
    "\n",
    "- https://arxiv.org/abs/1412.6980v8\n",
    "\n",
    "- https://keras.io/optimizers/#adam\n",
    "\n",
    "## Instructions\n",
    "\n",
    "- Compile the model using model.compile(). Your optimizer should be 'adam' and the loss should be 'mean_squared_error'.\n",
    "\n",
    "\n",
    "\n"
   ]
  },
  {
   "cell_type": "code",
   "execution_count": 33,
   "metadata": {},
   "outputs": [
    {
     "name": "stdout",
     "output_type": "stream",
     "text": [
      "Loss function: mean_squared_error\n"
     ]
    }
   ],
   "source": [
    "# Import necessary modules\n",
    "import keras\n",
    "from keras.layers import Dense\n",
    "from keras.models import Sequential\n",
    "\n",
    "# Specify the model\n",
    "n_cols = predictors.shape[1]\n",
    "model = Sequential()\n",
    "model.add(Dense(50, activation='relu', input_shape = (n_cols,)))\n",
    "model.add(Dense(32, activation='relu'))\n",
    "model.add(Dense(1))\n",
    "\n",
    "# Compile the model\n",
    "model.compile(optimizer= 'adam',loss= 'mean_squared_error')\n",
    "\n",
    "# Verify that model contains information from compiling\n",
    "print(\"Loss function: \" + model.loss)"
   ]
  },
  {
   "cell_type": "markdown",
   "metadata": {},
   "source": [
    "## Fitting the model\n",
    "- You're at the most fun part. You'll now fit the model. Recall that the data to be used as predictive features is loaded in a NumPy matrix called predictors and the data to be predicted is stored in a NumPy matrix called target. Your model is pre-written and it has been compiled with the code from the previous exercise.\n",
    "\n",
    "## Instructions\n",
    "\n",
    "- Fit the model. Remember that the first argument is the predictive features (predictors), and the data to be predicted (target) is the second argument."
   ]
  },
  {
   "cell_type": "code",
   "execution_count": 65,
   "metadata": {},
   "outputs": [
    {
     "name": "stdout",
     "output_type": "stream",
     "text": [
      "Epoch 1/1\n",
      "534/534 [==============================] - 1s 1ms/step - loss: 27.1792\n"
     ]
    },
    {
     "data": {
      "text/plain": [
       "<keras.callbacks.History at 0x5941d430f0>"
      ]
     },
     "execution_count": 65,
     "metadata": {},
     "output_type": "execute_result"
    }
   ],
   "source": [
    "# Import necessary modules\n",
    "import keras\n",
    "from keras.layers import Dense\n",
    "from keras.models import Sequential\n",
    "\n",
    "# Specify the model\n",
    "n_cols = predictors.shape[1]\n",
    "model = Sequential()\n",
    "model.add(Dense(50, activation='relu', input_shape = (n_cols,)))\n",
    "model.add(Dense(32, activation='relu'))\n",
    "model.add(Dense(1))\n",
    "\n",
    "# Compile the model\n",
    "model.compile(optimizer='adam', loss='mean_squared_error')\n",
    "\n",
    "# Fit the model\n",
    "model.fit(predictors,target)\n"
   ]
  },
  {
   "cell_type": "markdown",
   "metadata": {},
   "source": [
    "## Classification models\n",
    "- Deep learning works similarly for classification, that is for predicting outcomes from a set of discreate options \n",
    "\n",
    "For Classification, you do a couple of things differently, the biggest changes are \n",
    "    - First, set the loss function as \"categorical_crossentropy\" instead of 'mean_square-error'.\n",
    "    - this isn't the only possible loss function for classification problems, but it is by far the most common.\n",
    "    - For categorical_crossentropy loss function a lower score is better\n",
    "    - Add metrics = ['Accuracy'] to compile step for easy-to- understand diagnostic.\n",
    "    - The softmax activation function ensures the prediction sum to 1, so they can be interpreted like probilitys\n",
    "    \n",
    "\n",
    "<img src=\"images/s10.PNG\" style=\"width:650px;height:300px;\"> "
   ]
  },
  {
   "cell_type": "markdown",
   "metadata": {},
   "source": [
    "## Last steps in classification models\n",
    "- You'll now create a classification model using the titanic dataset, which has been pre-loaded into a DataFrame called df. You'll take information about the passengers and predict which ones survived.\n",
    "- The predictive variables are stored in a NumPy array predictors. The target to predict is in df.survived, though you'll have to manipulate it for keras. The number of predictive features is stored in n_cols.\n",
    "- you'll use the 'sgd' optimizer, which stands for Stochastic Gradient Descent. \n",
    "    - https://en.wikipedia.org/wiki/Stochastic_gradient_descent\n",
    "    \n",
    "## Instructions\n",
    "\n",
    "- Convert df.survived to a categorical variable using the to_categorical() function.\n",
    "- Specify a Sequential model called model.\n",
    "- Add a Dense layer with 32 nodes. Use 'relu' as the activation and (n_cols,) as the input_shape.\n",
    "- Add the Dense output layer. Because there are two outcomes, it should have 2 units, and because it is a classification model, the activation should be 'softmax'.\n",
    "- Compile the model, using 'sgd' as the optimizer, 'categorical_crossentropy' as the loss function, and metrics=['accuracy'] to - see the accuracy (what fraction of predictions were correct) at the end of each epoch.\n",
    "- Fit the model using the predictors and the target."
   ]
  },
  {
   "cell_type": "code",
   "execution_count": 104,
   "metadata": {},
   "outputs": [],
   "source": [
    "# Import necessary modules\n",
    "import keras\n",
    "from keras.layers import Dense\n",
    "from keras.models import Sequential\n",
    "from keras.utils import to_categorical"
   ]
  },
  {
   "cell_type": "code",
   "execution_count": 105,
   "metadata": {},
   "outputs": [
    {
     "data": {
      "text/html": [
       "<div>\n",
       "<style scoped>\n",
       "    .dataframe tbody tr th:only-of-type {\n",
       "        vertical-align: middle;\n",
       "    }\n",
       "\n",
       "    .dataframe tbody tr th {\n",
       "        vertical-align: top;\n",
       "    }\n",
       "\n",
       "    .dataframe thead th {\n",
       "        text-align: right;\n",
       "    }\n",
       "</style>\n",
       "<table border=\"1\" class=\"dataframe\">\n",
       "  <thead>\n",
       "    <tr style=\"text-align: right;\">\n",
       "      <th></th>\n",
       "      <th>survived</th>\n",
       "      <th>pclass</th>\n",
       "      <th>age</th>\n",
       "      <th>sibsp</th>\n",
       "      <th>parch</th>\n",
       "      <th>fare</th>\n",
       "      <th>male</th>\n",
       "      <th>age_was_missing</th>\n",
       "      <th>embarked_from_cherbourg</th>\n",
       "      <th>embarked_from_queenstown</th>\n",
       "      <th>embarked_from_southampton</th>\n",
       "    </tr>\n",
       "  </thead>\n",
       "  <tbody>\n",
       "    <tr>\n",
       "      <th>0</th>\n",
       "      <td>0</td>\n",
       "      <td>3</td>\n",
       "      <td>22.0</td>\n",
       "      <td>1</td>\n",
       "      <td>0</td>\n",
       "      <td>7.2500</td>\n",
       "      <td>1</td>\n",
       "      <td>False</td>\n",
       "      <td>0</td>\n",
       "      <td>0</td>\n",
       "      <td>1</td>\n",
       "    </tr>\n",
       "    <tr>\n",
       "      <th>1</th>\n",
       "      <td>1</td>\n",
       "      <td>1</td>\n",
       "      <td>38.0</td>\n",
       "      <td>1</td>\n",
       "      <td>0</td>\n",
       "      <td>71.2833</td>\n",
       "      <td>0</td>\n",
       "      <td>False</td>\n",
       "      <td>1</td>\n",
       "      <td>0</td>\n",
       "      <td>0</td>\n",
       "    </tr>\n",
       "    <tr>\n",
       "      <th>2</th>\n",
       "      <td>1</td>\n",
       "      <td>3</td>\n",
       "      <td>26.0</td>\n",
       "      <td>0</td>\n",
       "      <td>0</td>\n",
       "      <td>7.9250</td>\n",
       "      <td>0</td>\n",
       "      <td>False</td>\n",
       "      <td>0</td>\n",
       "      <td>0</td>\n",
       "      <td>1</td>\n",
       "    </tr>\n",
       "    <tr>\n",
       "      <th>3</th>\n",
       "      <td>1</td>\n",
       "      <td>1</td>\n",
       "      <td>35.0</td>\n",
       "      <td>1</td>\n",
       "      <td>0</td>\n",
       "      <td>53.1000</td>\n",
       "      <td>0</td>\n",
       "      <td>False</td>\n",
       "      <td>0</td>\n",
       "      <td>0</td>\n",
       "      <td>1</td>\n",
       "    </tr>\n",
       "    <tr>\n",
       "      <th>4</th>\n",
       "      <td>0</td>\n",
       "      <td>3</td>\n",
       "      <td>35.0</td>\n",
       "      <td>0</td>\n",
       "      <td>0</td>\n",
       "      <td>8.0500</td>\n",
       "      <td>1</td>\n",
       "      <td>False</td>\n",
       "      <td>0</td>\n",
       "      <td>0</td>\n",
       "      <td>1</td>\n",
       "    </tr>\n",
       "  </tbody>\n",
       "</table>\n",
       "</div>"
      ],
      "text/plain": [
       "   survived  pclass   age  sibsp  parch     fare  male  age_was_missing  \\\n",
       "0         0       3  22.0      1      0   7.2500     1            False   \n",
       "1         1       1  38.0      1      0  71.2833     0            False   \n",
       "2         1       3  26.0      0      0   7.9250     0            False   \n",
       "3         1       1  35.0      1      0  53.1000     0            False   \n",
       "4         0       3  35.0      0      0   8.0500     1            False   \n",
       "\n",
       "   embarked_from_cherbourg  embarked_from_queenstown  \\\n",
       "0                        0                         0   \n",
       "1                        1                         0   \n",
       "2                        0                         0   \n",
       "3                        0                         0   \n",
       "4                        0                         0   \n",
       "\n",
       "   embarked_from_southampton  \n",
       "0                          1  \n",
       "1                          0  \n",
       "2                          1  \n",
       "3                          1  \n",
       "4                          1  "
      ]
     },
     "execution_count": 105,
     "metadata": {},
     "output_type": "execute_result"
    }
   ],
   "source": [
    "df = pd.read_csv(path+'Titanic.csv')\n",
    "df.head()"
   ]
  },
  {
   "cell_type": "code",
   "execution_count": 103,
   "metadata": {},
   "outputs": [
    {
     "data": {
      "text/plain": [
       "(891, 11)"
      ]
     },
     "execution_count": 103,
     "metadata": {},
     "output_type": "execute_result"
    }
   ],
   "source": [
    "df.shape"
   ]
  },
  {
   "cell_type": "code",
   "execution_count": 106,
   "metadata": {},
   "outputs": [
    {
     "data": {
      "text/plain": [
       "(891, 10)"
      ]
     },
     "execution_count": 106,
     "metadata": {},
     "output_type": "execute_result"
    }
   ],
   "source": [
    "predictors = df.drop(['survived'],axis =1).values\n",
    "predictors.shape"
   ]
  },
  {
   "cell_type": "code",
   "execution_count": 107,
   "metadata": {},
   "outputs": [
    {
     "data": {
      "text/plain": [
       "(891, 2)"
      ]
     },
     "execution_count": 107,
     "metadata": {},
     "output_type": "execute_result"
    }
   ],
   "source": [
    "target = to_categorical(df.survived)\n",
    "target.shape\n"
   ]
  },
  {
   "cell_type": "code",
   "execution_count": 110,
   "metadata": {},
   "outputs": [
    {
     "name": "stdout",
     "output_type": "stream",
     "text": [
      "Epoch 1/1\n",
      "891/891 [==============================] - 18s 20ms/step - loss: 2.8043 - acc: 0.5926\n"
     ]
    },
    {
     "data": {
      "text/plain": [
       "<keras.callbacks.History at 0x59433cbe48>"
      ]
     },
     "execution_count": 110,
     "metadata": {},
     "output_type": "execute_result"
    }
   ],
   "source": [
    "# Import necessary modules\n",
    "import keras\n",
    "from keras.layers import Dense\n",
    "from keras.models import Sequential\n",
    "from keras.utils import to_categorical\n",
    "\n",
    "# Convert the target to categorical: target\n",
    "target = to_categorical(df.survived)\n",
    "\n",
    "n_cols = predictors.shape[1]\n",
    "\n",
    "# Set up the model\n",
    "model = Sequential()\n",
    "\n",
    "# Add the first layer\n",
    "model.add(Dense(32, activation='relu', input_shape = (n_cols,)))\n",
    "\n",
    "# Add the output layer\n",
    "model.add(Dense(2, activation='softmax'))\n",
    "\n",
    "# Compile the model\n",
    "model.compile(optimizer='sgd', loss='categorical_crossentropy',metrics=['accuracy'])\n",
    "\n",
    "# Fit the model\n",
    "model.fit(predictors,target)\n"
   ]
  },
  {
   "cell_type": "markdown",
   "metadata": {},
   "source": [
    "## Making predictions\n",
    "- The trained network from your previous coding exercise is now stored as model. New data to make predictions is stored in a NumPy array as pred_data. Use model to make predictions on your new data.\n",
    "\n",
    "- In this exercise, your predictions will be probabilities, which is the most common way for data scientists to communicate their predictions to colleagues.\n",
    "\n",
    "## Instructions\n",
    "- Create your predictions using the model's .predict() method on pred_data.\n",
    "- Use NumPy indexing to find the column corresponding to predicted probabilities of survival being True. This is the second column (index 1) of predictions. Store the result in predicted_prob_true and print it."
   ]
  },
  {
   "cell_type": "code",
   "execution_count": 117,
   "metadata": {},
   "outputs": [],
   "source": [
    "pred_data = np.array([[2, 34.0, 0, 0, 13.0, 1, False, 0, 0, 1],\n",
    "       [2, 31.0, 1, 1, 26.25, 0, False, 0, 0, 1],\n",
    "       [1, 11.0, 1, 2, 120.0, 1, False, 0, 0, 1],\n",
    "       [3, 0.42, 0, 1, 8.5167, 1, False, 1, 0, 0],\n",
    "       [3, 27.0, 0, 0, 6.975, 1, False, 0, 0, 1],\n",
    "       [3, 31.0, 0, 0, 7.775, 1, False, 0, 0, 1],\n",
    "       [1, 39.0, 0, 0, 0.0, 1, False, 0, 0, 1],\n",
    "       [3, 18.0, 0, 0, 7.775, 0, False, 0, 0, 1],\n",
    "       [2, 39.0, 0, 0, 13.0, 1, False, 0, 0, 1],\n",
    "       [1, 33.0, 1, 0, 53.1, 0, False, 0, 0, 1],\n",
    "       [3, 26.0, 0, 0, 7.8875, 1, False, 0, 0, 1],\n",
    "       [3, 39.0, 0, 0, 24.15, 1, False, 0, 0, 1],\n",
    "       [2, 35.0, 0, 0, 10.5, 1, False, 0, 0, 1],\n",
    "       [3, 6.0, 4, 2, 31.275, 0, False, 0, 0, 1],\n",
    "       [3, 30.5, 0, 0, 8.05, 1, False, 0, 0, 1],\n",
    "       [1, 29.69911764705882, 0, 0, 0.0, 1, True, 0, 0, 1],\n",
    "       [3, 23.0, 0, 0, 7.925, 0, False, 0, 0, 1],\n",
    "       [2, 31.0, 1, 1, 37.0042, 1, False, 1, 0, 0],\n",
    "       [3, 43.0, 0, 0, 6.45, 1, False, 0, 0, 1],\n",
    "       [3, 10.0, 3, 2, 27.9, 1, False, 0, 0, 1],\n",
    "       [1, 52.0, 1, 1, 93.5, 0, False, 0, 0, 1],\n",
    "       [3, 27.0, 0, 0, 8.6625, 1, False, 0, 0, 1],\n",
    "       [1, 38.0, 0, 0, 0.0, 1, False, 0, 0, 1],\n",
    "       [3, 27.0, 0, 1, 12.475, 0, False, 0, 0, 1],\n",
    "       [3, 2.0, 4, 1, 39.6875, 1, False, 0, 0, 1],\n",
    "       [3, 29.69911764705882, 0, 0, 6.95, 1, True, 0, 1, 0],\n",
    "       [3, 29.69911764705882, 0, 0, 56.4958, 1, True, 0, 0, 1],\n",
    "       [2, 1.0, 0, 2, 37.0042, 1, False, 1, 0, 0],\n",
    "       [3, 29.69911764705882, 0, 0, 7.75, 1, True, 0, 1, 0],\n",
    "       [1, 62.0, 0, 0, 80.0, 0, False, 0, 0, 0],\n",
    "       [3, 15.0, 1, 0, 14.4542, 0, False, 1, 0, 0],\n",
    "       [2, 0.83, 1, 1, 18.75, 1, False, 0, 0, 1],\n",
    "       [3, 29.69911764705882, 0, 0, 7.2292, 1, True, 1, 0, 0],\n",
    "       [3, 23.0, 0, 0, 7.8542, 1, False, 0, 0, 1],\n",
    "       [3, 18.0, 0, 0, 8.3, 1, False, 0, 0, 1],\n",
    "       [1, 39.0, 1, 1, 83.1583, 0, False, 1, 0, 0],\n",
    "       [3, 21.0, 0, 0, 8.6625, 1, False, 0, 0, 1],\n",
    "       [3, 29.69911764705882, 0, 0, 8.05, 1, True, 0, 0, 1],\n",
    "       [3, 32.0, 0, 0, 56.4958, 1, False, 0, 0, 1],\n",
    "       [1, 29.69911764705882, 0, 0, 29.7, 1, True, 1, 0, 0],\n",
    "       [3, 20.0, 0, 0, 7.925, 1, False, 0, 0, 1],\n",
    "       [2, 16.0, 0, 0, 10.5, 1, False, 0, 0, 1],\n",
    "       [1, 30.0, 0, 0, 31.0, 0, False, 1, 0, 0],\n",
    "       [3, 34.5, 0, 0, 6.4375, 1, False, 1, 0, 0],\n",
    "       [3, 17.0, 0, 0, 8.6625, 1, False, 0, 0, 1],\n",
    "       [3, 42.0, 0, 0, 7.55, 1, False, 0, 0, 1],\n",
    "       [3, 29.69911764705882, 8, 2, 69.55, 1, True, 0, 0, 1],\n",
    "       [3, 35.0, 0, 0, 7.8958, 1, False, 1, 0, 0],\n",
    "       [2, 28.0, 0, 1, 33.0, 1, False, 0, 0, 1],\n",
    "       [1, 29.69911764705882, 1, 0, 89.1042, 0, True, 1, 0, 0],\n",
    "       [3, 4.0, 4, 2, 31.275, 1, False, 0, 0, 1],\n",
    "       [3, 74.0, 0, 0, 7.775, 1, False, 0, 0, 1],\n",
    "       [3, 9.0, 1, 1, 15.2458, 0, False, 1, 0, 0],\n",
    "       [1, 16.0, 0, 1, 39.4, 0, False, 0, 0, 1],\n",
    "       [2, 44.0, 1, 0, 26.0, 0, False, 0, 0, 1],\n",
    "       [3, 18.0, 0, 1, 9.35, 0, False, 0, 0, 1],\n",
    "       [1, 45.0, 1, 1, 164.8667, 0, False, 0, 0, 1],\n",
    "       [1, 51.0, 0, 0, 26.55, 1, False, 0, 0, 1],\n",
    "       [3, 24.0, 0, 3, 19.2583, 0, False, 1, 0, 0],\n",
    "       [3, 29.69911764705882, 0, 0, 7.2292, 1, True, 1, 0, 0],\n",
    "       [3, 41.0, 2, 0, 14.1083, 1, False, 0, 0, 1],\n",
    "       [2, 21.0, 1, 0, 11.5, 1, False, 0, 0, 1],\n",
    "       [1, 48.0, 0, 0, 25.9292, 0, False, 0, 0, 1],\n",
    "       [3, 29.69911764705882, 8, 2, 69.55, 0, True, 0, 0, 1],\n",
    "       [2, 24.0, 0, 0, 13.0, 1, False, 0, 0, 1],\n",
    "       [2, 42.0, 0, 0, 13.0, 0, False, 0, 0, 1],\n",
    "       [2, 27.0, 1, 0, 13.8583, 0, False, 1, 0, 0],\n",
    "       [1, 31.0, 0, 0, 50.4958, 1, False, 0, 0, 1],\n",
    "       [3, 29.69911764705882, 0, 0, 9.5, 1, True, 0, 0, 1],\n",
    "       [3, 4.0, 1, 1, 11.1333, 1, False, 0, 0, 1],\n",
    "       [3, 26.0, 0, 0, 7.8958, 1, False, 0, 0, 1],\n",
    "       [1, 47.0, 1, 1, 52.5542, 0, False, 0, 0, 1],\n",
    "       [1, 33.0, 0, 0, 5.0, 1, False, 0, 0, 1],\n",
    "       [3, 47.0, 0, 0, 9.0, 1, False, 0, 0, 1],\n",
    "       [2, 28.0, 1, 0, 24.0, 0, False, 1, 0, 0],\n",
    "       [3, 15.0, 0, 0, 7.225, 0, False, 1, 0, 0],\n",
    "       [3, 20.0, 0, 0, 9.8458, 1, False, 0, 0, 1],\n",
    "       [3, 19.0, 0, 0, 7.8958, 1, False, 0, 0, 1],\n",
    "       [3, 29.69911764705882, 0, 0, 7.8958, 1, True, 0, 0, 1],\n",
    "       [1, 56.0, 0, 1, 83.1583, 0, False, 1, 0, 0],\n",
    "       [2, 25.0, 0, 1, 26.0, 0, False, 0, 0, 1],\n",
    "       [3, 33.0, 0, 0, 7.8958, 1, False, 0, 0, 1],\n",
    "       [3, 22.0, 0, 0, 10.5167, 0, False, 0, 0, 1],\n",
    "       [2, 28.0, 0, 0, 10.5, 1, False, 0, 0, 1],\n",
    "       [3, 25.0, 0, 0, 7.05, 1, False, 0, 0, 1],\n",
    "       [3, 39.0, 0, 5, 29.125, 0, False, 0, 1, 0],\n",
    "       [2, 27.0, 0, 0, 13.0, 1, False, 0, 0, 1],\n",
    "       [1, 19.0, 0, 0, 30.0, 0, False, 0, 0, 1],\n",
    "       [3, 29.69911764705882, 1, 2, 23.45, 0, True, 0, 0, 1],\n",
    "       [1, 26.0, 0, 0, 30.0, 1, False, 1, 0, 0],\n",
    "       [3, 32.0, 0, 0, 7.75, 1, False, 0, 1, 0]])"
   ]
  },
  {
   "cell_type": "code",
   "execution_count": 118,
   "metadata": {},
   "outputs": [
    {
     "data": {
      "text/plain": [
       "(91, 10)"
      ]
     },
     "execution_count": 118,
     "metadata": {},
     "output_type": "execute_result"
    }
   ],
   "source": [
    "pred_data.shape"
   ]
  },
  {
   "cell_type": "code",
   "execution_count": 119,
   "metadata": {},
   "outputs": [
    {
     "name": "stdout",
     "output_type": "stream",
     "text": [
      "Epoch 1/1\n",
      "891/891 [==============================] - 2s 2ms/step - loss: 2.1244 - acc: 0.5802\n",
      "[1.3709150e-01 9.8243570e-01 1.0000000e+00 7.7027684e-01 3.9335679e-02\n",
      " 2.6668519e-02 1.0391556e-03 2.5440204e-01 6.1351918e-02 9.9999356e-01\n",
      " 6.5029927e-02 8.0872411e-01 4.8236165e-02 9.9973947e-01 3.2224126e-02\n",
      " 4.5940056e-03 1.2714952e-01 9.9910057e-01 2.5004002e-03 9.9844861e-01\n",
      " 1.0000000e+00 7.2818942e-02 1.2237437e-03 2.6627579e-01 9.9998581e-01\n",
      " 3.1446423e-02 9.9999630e-01 9.9995875e-01 4.1393712e-02 9.9999988e-01\n",
      " 9.0148002e-01 9.9194193e-01 3.9915580e-02 1.0513721e-01 2.5837374e-01\n",
      " 1.0000000e+00 1.8796095e-01 3.9767854e-02 9.9999499e-01 9.9535924e-01\n",
      " 1.7208377e-01 6.1523873e-01 9.9689984e-01 1.2687515e-02 3.2709146e-01\n",
      " 3.9079199e-03 1.0000000e+00 1.9363683e-02 9.9748898e-01 1.0000000e+00\n",
      " 9.9973553e-01 3.3886485e-05 9.4588780e-01 9.9995518e-01 8.7090182e-01\n",
      " 3.5440418e-01 1.0000000e+00 6.6937685e-01 9.0868419e-01 3.9915580e-02\n",
      " 7.2758310e-02 5.3499186e-01 7.6978141e-01 1.0000000e+00 4.9728683e-01\n",
      " 4.4412427e-02 6.2205023e-01 9.9998522e-01 6.7580462e-02 8.5291636e-01\n",
      " 6.5225020e-02 9.9995673e-01 1.3958702e-02 2.7398185e-03 9.7890532e-01\n",
      " 3.9957887e-01 3.0959076e-01 1.9758941e-01 3.7556361e-02 1.0000000e+00\n",
      " 9.8815429e-01 1.9726319e-02 3.2915801e-01 1.4946641e-01 5.6717515e-02\n",
      " 9.5146149e-01 3.6119878e-01 9.9852020e-01 9.5625389e-01 9.9690658e-01\n",
      " 2.6078790e-02]\n"
     ]
    }
   ],
   "source": [
    "# Specify, compile, and fit the model\n",
    "model = Sequential()\n",
    "model.add(Dense(32, activation='relu', input_shape = (n_cols,)))\n",
    "model.add(Dense(2, activation='softmax'))\n",
    "model.compile(optimizer='sgd', \n",
    "              loss='categorical_crossentropy', \n",
    "              metrics=['accuracy'])\n",
    "model.fit(predictors, target)\n",
    "\n",
    "# Calculate predictions: predictions\n",
    "predictions = model.predict(pred_data)\n",
    "\n",
    "# Calculate predicted probability of survival: predicted_prob_true\n",
    "predicted_prob_true = predictions[:,1]\n",
    "\n",
    "# print predicted_prob_true\n",
    "print(predicted_prob_true)"
   ]
  },
  {
   "cell_type": "markdown",
   "metadata": {},
   "source": [
    "## Fine-tuning keras models\n",
    "Here, you'll learn how to optimize your deep learning models in keras. You'll learn how to validate your models, understand the concept of model capacity, and experiment with wider and deeper networks.\n",
    "\n",
    "## Understanding model optimization\n",
    "* You probably don't have a great intuition for how to choose things like model architecture and model optimization arguments \n",
    "- In practice, optimization is a hard problem.\n",
    "- the optimal value for any one weight depends on the values of the other weights, and we are optimizing many weights at once.'\n",
    "- Even if the slope tells us which weights to increase, and which weight to decrease our updates will not improve your model meaningfully.\n",
    "- A small learning rate might cause us to make such small update's to the model weights that your model doesn't improve materially.\n",
    "- A very large learning rate might take us too far in the direction that seemed good.\n",
    "- A smart optimzer like \"Adam\" helps, but optimazatoin problem can still occur.\n",
    "\n",
    "The easiest way to see the effect of different learning rates is to use the simplest optimizer, Stochastic  Gradient Decent, some times abbreviated to SGD\n",
    "   - This optimizer uses a fixed learning rate, learning rate around 0.01 are common, but you can specify the learning rate you need with lr argument.\n",
    "   - we have a new function that create a new model here.\n",
    "   \n",
    "<img src=\"images/s14.PNG\" style=\"width:650px;height:300px;\">   \n",
    "\n",
    "We create models in a for loop, and each time around we complile model using SGD with a different learning rate \n",
    "we pass in the optimizer with the same argument where we previously passed the string \"Adam\" \n",
    "\n",
    "<img src=\"images/s15.PNG\" style=\"width:650px;height:300px;\"> \n",
    "\n",
    "## \"dying - neuron\"\n",
    "\n",
    "Even if your learning rate is well tuned, you can run into the so called \"dying - neuron\" problem\n",
    "    - This problem occurs when a neuran takes a value less than 0 for all rows of your data.\n",
    "    - Recall that, with ReLU activation function, any node with a negative input value produces a output of 0, and it also has a slope of 0 as you see in the graph\n",
    "    - Because the slope is 0, the slope of any weights flowing into that node are also 0.\n",
    "\n",
    "<img src=\"images/s16.PNG\" style=\"width:650px;height:300px;\"> \n",
    "\n",
    "All the options listed could prevent a model from showing an improved loss in its first few epochs.'\n",
    "\n",
    "<img src=\"images/s17.PNG\" style=\"width:650px;height:300px;\"> \n",
    "    "
   ]
  },
  {
   "cell_type": "markdown",
   "metadata": {},
   "source": [
    "## Changing optimization parameters\n",
    "- It's time to get your hands dirty with optimization. You'll now try optimizing a model at a very low learning rate, a very high learning rate, and a \"just right\" learning rate. You'll want to look at the results after running this exercise, remembering that a low value for the loss function is good.\n",
    "- For these exercises, we've pre-loaded the predictors and target values from your previous classification models (predicting who would survive on the Titanic). You'll want the optimization to start from scratch every time you change the learning rate, to give a fair comparison of how each learning rate did in your results. So we have created a function get_new_model() that creates an unoptimized model to optimize.\n",
    "\n",
    "## Instructions\n",
    "- Import SGD from keras.optimizers.\n",
    "- Create a list of learning rates to try optimizing with called lr_to_test. The learning rates in it should be .000001, 0.01, and 1.\n",
    "- Using a for loop to iterate over lr_to_test:\n",
    "    - Use the get_new_model() function to build a new, unoptimized model.\n",
    "    - Create an optimizer called my_optimizer using the SGD() constructor with keyword argument lr=lr.\n",
    "    - Compile your model. Set the optimizer parameter to be the SGD object you created above, and because this is a classification problem, use 'categorical_crossentropy' for the loss parameter.\n",
    "    - Fit your model using the predictors and target.\n",
    "\n"
   ]
  },
  {
   "cell_type": "code",
   "execution_count": 122,
   "metadata": {},
   "outputs": [],
   "source": [
    "input_shape = (10,)\n",
    "def get_new_model(input_shape = input_shape):\n",
    " model = Sequential()\n",
    " model.add(Dense(100, activation='relu', input_shape = input_shape))\n",
    " model.add(Dense(100, activation='relu'))\n",
    " model.add(Dense(2, activation='softmax'))\n",
    " return(model)"
   ]
  },
  {
   "cell_type": "code",
   "execution_count": 123,
   "metadata": {},
   "outputs": [
    {
     "name": "stdout",
     "output_type": "stream",
     "text": [
      "\n",
      "\n",
      "Testing model with learning rate: 0.000001\n",
      "\n",
      "Epoch 1/1\n",
      "891/891 [==============================] - 32s 36ms/step - loss: 1.0927\n",
      "\n",
      "\n",
      "Testing model with learning rate: 0.010000\n",
      "\n",
      "Epoch 1/1\n",
      "891/891 [==============================] - ETA: 3s - loss: 2.8318  - 5s 5ms/step - loss: 2.1702\n",
      "\n",
      "\n",
      "Testing model with learning rate: 1.000000\n",
      "\n",
      "Epoch 1/1\n",
      "891/891 [==============================] - 2s 3ms/step - loss: 9.6924\n"
     ]
    }
   ],
   "source": [
    "# Import the SGD optimizer\n",
    "from keras.optimizers import SGD\n",
    "\n",
    "# Create list of learning rates: lr_to_test\n",
    "lr_to_test = [.000001,0.01,1]\n",
    "\n",
    "# Loop over learning rates\n",
    "for lr in lr_to_test:\n",
    "    print('\\n\\nTesting model with learning rate: %f\\n'%lr )\n",
    "    \n",
    "    # Build new model to test, unaffected by previous models\n",
    "    model = get_new_model()\n",
    "    \n",
    "    # Create SGD optimizer with specified learning rate: my_optimizer\n",
    "    my_optimizer = SGD(lr=lr)\n",
    "    \n",
    "    # Compile the model\n",
    "    model.compile(optimizer = my_optimizer, loss = 'categorical_crossentropy')\n",
    "    \n",
    "    # Fit the model\n",
    "    model.fit(predictors,target)\n",
    "    "
   ]
  },
  {
   "cell_type": "markdown",
   "metadata": {},
   "source": [
    "## Model validation\n",
    "You may recall previous machine learning classes that your model's performance on the training data is not a good indication of how it will perform on new data\n",
    "\n",
    "For this reason we use validation data to test model performance \n",
    "\n",
    "## Validation data\n",
    "- Validation data is data that is explicitly held out from training, and used only to test model performance.\n",
    "you may already be familiar with K-fold cross validation.\n",
    "- In practice, few people run K-fold cross validation on deep learning models because deep learning is typically used on large datasets\n",
    "- So the computational expense of running k-fold validation would be large, and we usually trust a score from a single validation run because those validation runs are reasonably large\n",
    "\n",
    "<img src=\"images/s18.PNG\" style=\"width:650px;height:300px;\"> \n",
    "\n",
    "Keras makes it easy to use some of your data as validation data, where we specify the split using keyword argument \"Validation split\" when calling the \"fit \" method.\n",
    "\n",
    "    _ in classification model metrics is accuracy \n",
    "    \n",
    "<img src=\"images/s19.PNG\" style=\"width:650px;height:300px;\"> \n",
    "\n",
    "## Early Stopping\n",
    "\n",
    "Our goal is to have the best validation score possible, so we should keep training while validation score is improving, and then stop training when the validation score isn't improving we do this using called \"Early stoping\".\n",
    "- The monitor takes an argument called patience, which is how many Epics the model can go without improving before we stop training \n",
    "\n",
    "<img src=\"images/s20.PNG\" style=\"width:650px;height:300px;\"> \n",
    "\n",
    "<img src=\"images/s22.PNG\" style=\"width:650px;height:300px;\"> \n",
    "\n",
    "<img src=\"images/s23.PNG\" style=\"width:650px;height:300px;\"> "
   ]
  },
  {
   "cell_type": "markdown",
   "metadata": {},
   "source": [
    "## Evaluating model accuracy on validation dataset\n",
    "- Now it's your turn to monitor model accuracy with a validation data set. A model definition has been provided as model. Your job is to add the code to compile it and then fit it. You'll check the validation score in each epoch.\n",
    "\n",
    "## Instructions\n",
    "\n",
    "- Compile your model using 'adam' as the optimizer and 'categorical_crossentropy' for the loss. To see what fraction of predictions are correct (the accuracy) in each epoch, specify the additional keyword argument metrics=['accuracy'] in model.compile().\n",
    "- Fit the model using the predictors and target. Create a validation split of 30% (or 0.3). This will be reported in each epoch."
   ]
  },
  {
   "cell_type": "code",
   "execution_count": 124,
   "metadata": {},
   "outputs": [
    {
     "name": "stdout",
     "output_type": "stream",
     "text": [
      "Train on 623 samples, validate on 268 samples\n",
      "Epoch 1/1\n",
      "623/623 [==============================] - 1s 2ms/step - loss: 1.7022 - acc: 0.5329 - val_loss: 0.6994 - val_acc: 0.6791\n"
     ]
    }
   ],
   "source": [
    "# Save the number of columns in predictors: n_cols\n",
    "n_cols = predictors.shape[1]\n",
    "input_shape = (n_cols,)\n",
    "\n",
    "# Specify the model\n",
    "model = Sequential()\n",
    "model.add(Dense(100, activation='relu', input_shape = input_shape))\n",
    "model.add(Dense(100, activation='relu'))\n",
    "model.add(Dense(2, activation='softmax'))\n",
    "\n",
    "# Compile the model\n",
    "model.compile(optimizer= 'adam',loss= 'categorical_crossentropy',metrics=['accuracy'])\n",
    "\n",
    "# Fit the model\n",
    "hist = model.fit(predictors, target,validation_split=0.3)\n"
   ]
  },
  {
   "cell_type": "markdown",
   "metadata": {},
   "source": [
    "## Early stopping: Optimizing the optimization\n",
    "- Now that you know how to monitor your model performance throughout optimization, you can use early stopping to stop optimization when it isn't helping any more. Since the optimization stops automatically when it isn't helping, you can also set a high value for epochs in your call to .fit(), as Dan showed in the video.\n",
    "\n",
    "- The model you'll optimize has been specified as model. As before, the data is pre-loaded as predictors and target.\n",
    "\n",
    "## Instructions\n",
    "- Import EarlyStopping from keras.callbacks.\n",
    "- Compile the model, once again using 'adam' as the optimizer, 'categorical_crossentropy' as the loss function, and metrics=['accuracy'] to see the accuracy at each epoch.\n",
    "- Create an EarlyStopping object called early_stopping_monitor. Stop optimization when the validation loss hasn't improved for 2 epochs by specifying the patience parameter of EarlyStopping() to be 2.\n",
    "- Fit the model using the predictors and target. Specify the number of epochs to be 30 and use a validation split of 0.3. In addition, pass [early_stopping_monitor] to the callbacks parameter."
   ]
  },
  {
   "cell_type": "code",
   "execution_count": 125,
   "metadata": {},
   "outputs": [
    {
     "name": "stdout",
     "output_type": "stream",
     "text": [
      "Train on 623 samples, validate on 268 samples\n",
      "Epoch 1/30\n",
      "623/623 [==============================] - 2s 3ms/step - loss: 1.0731 - acc: 0.5955 - val_loss: 0.9323 - val_acc: 0.5448\n",
      "Epoch 2/30\n",
      "623/623 [==============================] - 0s 117us/step - loss: 0.7498 - acc: 0.6485 - val_loss: 0.6193 - val_acc: 0.6866\n",
      "Epoch 3/30\n",
      "623/623 [==============================] - 0s 125us/step - loss: 0.6150 - acc: 0.6822 - val_loss: 0.6429 - val_acc: 0.6754\n",
      "Epoch 4/30\n",
      "623/623 [==============================] - 0s 159us/step - loss: 0.6726 - acc: 0.6597 - val_loss: 0.5625 - val_acc: 0.7388\n",
      "Epoch 5/30\n",
      "623/623 [==============================] - 0s 137us/step - loss: 0.6024 - acc: 0.6918 - val_loss: 0.5337 - val_acc: 0.7201\n",
      "Epoch 6/30\n",
      "623/623 [==============================] - 0s 149us/step - loss: 0.5840 - acc: 0.7111 - val_loss: 0.6853 - val_acc: 0.6381\n",
      "Epoch 7/30\n",
      "623/623 [==============================] - 0s 133us/step - loss: 0.5728 - acc: 0.7047 - val_loss: 0.5157 - val_acc: 0.7425\n",
      "Epoch 8/30\n",
      "623/623 [==============================] - 0s 132us/step - loss: 0.5483 - acc: 0.7159 - val_loss: 0.4792 - val_acc: 0.7500\n",
      "Epoch 9/30\n",
      "623/623 [==============================] - 0s 127us/step - loss: 0.5329 - acc: 0.7384 - val_loss: 0.5728 - val_acc: 0.7015\n",
      "Epoch 10/30\n",
      "623/623 [==============================] - 0s 135us/step - loss: 0.5311 - acc: 0.7303 - val_loss: 0.5007 - val_acc: 0.8097\n"
     ]
    },
    {
     "data": {
      "text/plain": [
       "<keras.callbacks.History at 0x594682bef0>"
      ]
     },
     "execution_count": 125,
     "metadata": {},
     "output_type": "execute_result"
    }
   ],
   "source": [
    "# Import EarlyStopping\n",
    "from keras.callbacks import EarlyStopping\n",
    "\n",
    "# Save the number of columns in predictors: n_cols\n",
    "n_cols = predictors.shape[1]\n",
    "input_shape = (n_cols,)\n",
    "\n",
    "# Specify the model\n",
    "model = Sequential()\n",
    "model.add(Dense(100, activation='relu', input_shape = input_shape))\n",
    "model.add(Dense(100, activation='relu'))\n",
    "model.add(Dense(2, activation='softmax'))\n",
    "\n",
    "# Compile the model\n",
    "model.compile(optimizer= 'adam',loss= 'categorical_crossentropy',metrics=['accuracy'])\n",
    "\n",
    "# Define early_stopping_monitor\n",
    "early_stopping_monitor = EarlyStopping(patience =2)\n",
    "\n",
    "# Fit the model\n",
    "model.fit(predictors, target,validation_split=0.3,epochs= 30,callbacks = [early_stopping_monitor])"
   ]
  },
  {
   "cell_type": "markdown",
   "metadata": {},
   "source": [
    "Because optimization will automatically stop when it is no longer helpful, it is okay to specify the maximum number of epochs as 30 rather than using the default of 10 that you've used so far. Here, it seems like the optimization stopped after 7 epochs."
   ]
  },
  {
   "cell_type": "markdown",
   "metadata": {},
   "source": [
    "## Experimenting with wider networks\n",
    "- Now you know everything you need to begin experimenting with different models!\n",
    "\n",
    "- A model called model_1 has been pre-loaded. You can see a summary of this model printed in the IPython Shell. This is a relatively small network, with only 10 units in each hidden layer.\n",
    "\n",
    "- In this exercise you'll create a new model called model_2 which is similar to model_1, except it has 100 units in each hidden layer.\n",
    "\n",
    "- After you create model_2, both models will be fitted, and a graph showing both models loss score at each epoch will be shown. We added the argument verbose=False in the fitting commands to print out fewer updates, since you will look at these graphically instead of as text.\n",
    "\n",
    "- Because you are fitting two models, it will take a moment to see the outputs after you hit run, so be patient."
   ]
  },
  {
   "cell_type": "markdown",
   "metadata": {},
   "source": [
    "<img src=\"images/s24.PNG\" style=\"width:650px;height:300px;\"> "
   ]
  },
  {
   "cell_type": "markdown",
   "metadata": {},
   "source": [
    "## Instructions\n",
    "- Create model_2 to replicate model_1, but use 100 nodes instead of 10 for the first two Dense layers you add with the 'relu' activation. Use 2 nodes for the Dense output layer with 'softmax' as the activation.\n",
    "- Compile model_2 as you have done with previous models: Using 'adam' as the optimizer, 'categorical_crossentropy' for the loss, and metrics=['accuracy'].\n",
    "- Hit 'Submit Answer' to fit both the models and visualize which one gives better results! Notice the keyword argument verbose=False in model.fit(): This prints out fewer updates, since you'll be evaluating the models graphically instead of through text."
   ]
  },
  {
   "cell_type": "code",
   "execution_count": 129,
   "metadata": {},
   "outputs": [],
   "source": [
    "import matplotlib.pyplot as plt"
   ]
  },
  {
   "cell_type": "code",
   "execution_count": 138,
   "metadata": {},
   "outputs": [
    {
     "data": {
      "image/png": "[encoded data removed]",
      "text/plain": [
       "<Figure size 432x288 with 1 Axes>"
      ]
     },
     "metadata": {},
     "output_type": "display_data"
    }
   ],
   "source": [
    "# Define early_stopping_monitor\n",
    "early_stopping_monitor = EarlyStopping(patience=2)\n",
    "\n",
    "\n",
    "# Create the new model: model_\n",
    "model_1 = Sequential()\n",
    "\n",
    "# Add the first and second layers\n",
    "model_1.add(Dense(10, activation='relu', input_shape=input_shape))\n",
    "model_1.add(Dense(10, activation='relu'))\n",
    "\n",
    "# Add the output layer\n",
    "model_1.add(Dense(2,activation = 'softmax'))\n",
    "\n",
    "# Compile model_2\n",
    "model_1.compile(optimizer = 'adam' , loss = 'categorical_crossentropy',metrics=['accuracy'])\n",
    "\n",
    "\n",
    "# Create the new model: model_2\n",
    "model_2 = Sequential()\n",
    "\n",
    "# Add the first and second layers\n",
    "model_2.add(Dense(100, activation='relu', input_shape=input_shape))\n",
    "model_2.add(Dense(100, activation='relu'))\n",
    "\n",
    "# Add the output layer\n",
    "model_2.add(Dense(2,activation = 'softmax'))\n",
    "\n",
    "# Compile model_2\n",
    "model_2.compile(optimizer = 'adam' , loss = 'categorical_crossentropy',metrics=['accuracy'])\n",
    "\n",
    "\n",
    "\n",
    "\n",
    "# Fit model_1\n",
    "model_1_training = model_1.fit(predictors, target, epochs=15, validation_split=0.2, callbacks=[early_stopping_monitor], verbose=False)\n",
    "\n",
    "# Fit model_2\n",
    "model_2_training = model_2.fit(predictors, target, epochs=15, validation_split=0.2, callbacks=[early_stopping_monitor], verbose=False)\n",
    "\n",
    "# Create the plot\n",
    "plt.plot(model_1_training.history['val_loss'], 'r', model_2_training.history['val_loss'], 'b')\n",
    "plt.xlabel('Epochs')\n",
    "plt.ylabel('Validation score')\n",
    "plt.show()\n"
   ]
  },
  {
   "cell_type": "markdown",
   "metadata": {},
   "source": [
    "The blue model is the one you made, the red is the original model. Your model had a lower loss value, so it is the better model."
   ]
  },
  {
   "cell_type": "markdown",
   "metadata": {},
   "source": [
    "## Adding layers to a network\n",
    "- You've seen how to experiment with wider networks. In this exercise, you'll try a deeper network (more hidden layers).\n",
    "\n",
    "- Once again, you have a baseline model called model_1 as a starting point. It has 1 hidden layer, with 50 units. You can see a summary of that model's structure printed out. You will create a similar network with 3 hidden layers (still keeping 50 units in each layer).\n",
    "\n",
    "- This will again take a moment to fit both models, so you'll need to wait a few seconds to see the results after you run your code."
   ]
  },
  {
   "cell_type": "code",
   "execution_count": 141,
   "metadata": {},
   "outputs": [
    {
     "data": {
      "image/png": "[encoded data removed]",
      "text/plain": [
       "<Figure size 432x288 with 1 Axes>"
      ]
     },
     "metadata": {},
     "output_type": "display_data"
    }
   ],
   "source": [
    "# The input shape to use in the first hidden layer\n",
    "input_shape = (n_cols,)\n",
    "\n",
    "#____________________________________________________model 1 _________________________________\n",
    "# Create the new model: model_2\n",
    "model_1 = Sequential()\n",
    "\n",
    "# Add the first, second, and third hidden layers\n",
    "model_1.add(Dense(50,activation='relu',input_shape=input_shape))\n",
    "\n",
    "# Add the output layer\n",
    "model_1.add(Dense(2,activation='softmax'))\n",
    "\n",
    "# Compile model_2\n",
    "model_1.compile(optimizer = 'adam' , loss = 'categorical_crossentropy',metrics=['accuracy'])\n",
    "#________________________________________________________________________________________________\n",
    "\n",
    "# Create the new model: model_2\n",
    "model_2 = Sequential()\n",
    "\n",
    "# Add the first, second, and third hidden layers\n",
    "model_2.add(Dense(50,activation='relu',input_shape=input_shape))\n",
    "model_2.add(Dense(50,activation='relu'))\n",
    "model_2.add(Dense(50, activation='relu'))\n",
    "\n",
    "# Add the output layer\n",
    "model_2.add(Dense(2,activation='softmax'))\n",
    "\n",
    "# Compile model_2\n",
    "model_2.compile(optimizer = 'adam' , loss = 'categorical_crossentropy',metrics=['accuracy'])\n",
    "\n",
    "# Fit model 1\n",
    "model_1_training = model_1.fit(predictors, target, epochs=20, validation_split=0.4, callbacks=[early_stopping_monitor], verbose=False)\n",
    "\n",
    "# Fit model 2\n",
    "model_2_training = model_2.fit(predictors, target, epochs=20, validation_split=0.4, callbacks=[early_stopping_monitor], verbose=False)\n",
    "\n",
    "# Create the plot\n",
    "plt.plot(model_1_training.history['val_loss'], 'r', model_2_training.history['val_loss'], 'b')\n",
    "plt.xlabel('Epochs')\n",
    "plt.ylabel('Validation score')\n",
    "plt.show()\n"
   ]
  },
  {
   "cell_type": "markdown",
   "metadata": {},
   "source": [
    "The blue model is the one you made and the red is the original model. The model with the lower loss value is the better model."
   ]
  },
  {
   "cell_type": "markdown",
   "metadata": {},
   "source": [
    "## Thinking about model capacity\n",
    "However, it takes some practice to get an intution for what experiments are architecture to try \n",
    "\n",
    "## Model Capacity \n",
    "But some thing called \"Model capacity \" should be one of the key consideration you think about when deciding what models to try\n",
    "    - \"Model capacity\" or \"network capacity\" is closely releated to the terms overfitting and underfitting.\n",
    "    - Model capacity is a model's ability to capture predictive patterns in your data.So the more capacity a model, the further to the right we will be on this graph \n",
    "If you had a network, and you increased the number of nodes or neurons in a hidden layer, that would increase model capacity if you add layer that also increases model capacity\n",
    "\n",
    "<img src=\"images/s25.PNG\" style=\"width:650px;height:300px;\"> \n",
    "\n",
    "<img src=\"images/s26.PNG\" style=\"width:650px;height:300px;\"> "
   ]
  },
  {
   "cell_type": "markdown",
   "metadata": {},
   "source": [
    "## Experimenting with model structures\n",
    "\n",
    "<img src=\"images/s27.PNG\" style=\"width:650px;height:300px;\"> \n",
    "\n",
    "Increasing the number of units in each hidden layer would be a good next step to try achieving even better performance."
   ]
  },
  {
   "cell_type": "markdown",
   "metadata": {},
   "source": [
    "Stepping up to images\n",
    "Building your own digit recognition model\n",
    "\n",
    "- You've reached the final exercise of the course - you now know everything you need to build an accurate model to recognize handwritten digits!\n",
    "\n",
    "- We've already done the basic manipulation of the MNIST dataset shown in the video, so you have X and y loaded and ready to model with. Sequential and Dense from keras are also pre-imported.\n",
    "\n",
    "- To add an extra challenge, we've loaded only 2500 images, rather than 60000 which you will see in some published results. Deep learning models perform better with more data, however, they also take longer to train, especially when they start becoming more complex.\n",
    "\n",
    "- If you have a computer with a CUDA compatible GPU, you can take advantage of it to improve computation time. If you don't have a GPU, no problem! You can set up a deep learning environment in the cloud that can run your models on a GPU. Here is a blog post by Dan that explains how to do this - check it out after completing this exercise! It is a great next step as you continue your deep learning journey.\n",
    "\n",
    "Instructions\n",
    "\n"
   ]
  },
  {
   "cell_type": "code",
   "execution_count": 147,
   "metadata": {},
   "outputs": [],
   "source": [
    "df = pd.read_csv(path+\"MNIST.CSV\")"
   ]
  },
  {
   "cell_type": "code",
   "execution_count": 149,
   "metadata": {},
   "outputs": [
    {
     "data": {
      "text/plain": [
       "(1890, 785)"
      ]
     },
     "execution_count": 149,
     "metadata": {},
     "output_type": "execute_result"
    }
   ],
   "source": [
    "df.shape"
   ]
  },
  {
   "cell_type": "code",
   "execution_count": 152,
   "metadata": {},
   "outputs": [
    {
     "data": {
      "text/plain": [
       "(1890, 784)"
      ]
     },
     "execution_count": 152,
     "metadata": {},
     "output_type": "execute_result"
    }
   ],
   "source": [
    "X = df.iloc[:,1:]\n",
    "X.shape"
   ]
  },
  {
   "cell_type": "code",
   "execution_count": null,
   "metadata": {},
   "outputs": [],
   "source": [
    "# Create the model: model\n",
    "model = Sequential()\n",
    "\n",
    "# Add the first hidden layer\n",
    "model.add(Dense(50,activation = 'relu',input_shape = (784,)))\n",
    "\n",
    "# Add the second hidden layer\n",
    "model.add(Dense(50,activation = 'relu'))\n",
    "\n",
    "# Add the output layer\n",
    "model.add(Dense(10,activation = 'softmax'))\n",
    "\n",
    "# Compile the model\n",
    "model.compile(optimizer = 'adam' , loss = 'categorical_crossentropy',metrics=['accuracy'])\n",
    "\n",
    "# Fit the model\n",
    "model.fit(X, y, validation_split=0.3)\n"
   ]
  }
 ],
 "metadata": {
  "kernelspec": {
   "display_name": "Python 3",
   "language": "python",
   "name": "python3"
  },
  "language_info": {
   "codemirror_mode": {
    "name": "ipython",
    "version": 3
   },
   "file_extension": ".py",
   "mimetype": "text/x-python",
   "name": "python",
   "nbconvert_exporter": "python",
   "pygments_lexer": "ipython3",
   "version": "3.6.5"
  }
 },
 "nbformat": 4,
 "nbformat_minor": 2
}
